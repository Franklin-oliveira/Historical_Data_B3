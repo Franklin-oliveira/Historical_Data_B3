{
 "cells": [
  {
   "cell_type": "markdown",
   "metadata": {},
   "source": [
    "# Preparing Layout\n",
    "\n",
    "---\n",
    "\n",
    "This notebooks fetches layout tables from `SeriesHistoricas_Layout.pdf` file and creates a .csv file to be accessed in `create_db` notebook. \n",
    "\n",
    "This file contains tables which describes the layout of historical data files. It contains information on how to read the historical data file and a brief description on each of its fields. Below is an example of a **layout table**. \n",
    "\n",
    "![](./img/layout_table.png)\n",
    "\n",
    "Here is a brief description of each column:\n",
    "\n",
    "- **NOME DO CAMPO / DESCRIÇÃO**: name of the field and a brief description\n",
    "- **CONTEÚDO**: short comments on its content\n",
    "- **TIPO E TAMANHO**: Kind (one of N, X of V - which stands for Nominal, Integer and Float Value, respectively) and size (value length)\n",
    "- **POS. INIC.**: initial position\n",
    "- **POS. FINAL.**: final position\n",
    "\n",
    "---\n",
    "\n",
    "What the code in this notebook does is to collect all layout tables and save it into .csv files to be accessed by `create_db`notebook. This information guides the reading of each historical data file of B3."
   ]
  },
  {
   "cell_type": "code",
   "execution_count": 1,
   "metadata": {
    "ExecuteTime": {
     "end_time": "2020-02-22T15:23:12.555325Z",
     "start_time": "2020-02-22T15:23:12.027215Z"
    }
   },
   "outputs": [],
   "source": [
    "# imports\n",
    "import camelot        # fetch tables from PDF\n",
    "import numpy as np\n",
    "import pandas as pd"
   ]
  },
  {
   "cell_type": "markdown",
   "metadata": {},
   "source": [
    "## Getting layout info\n",
    "\n",
    "This info is collected from `SeriesHistoricas_Layout.pdf` file. "
   ]
  },
  {
   "cell_type": "code",
   "execution_count": 2,
   "metadata": {
    "ExecuteTime": {
     "end_time": "2020-02-22T15:23:27.647068Z",
     "start_time": "2020-02-22T15:23:13.636926Z"
    }
   },
   "outputs": [],
   "source": [
    "# searches tables in all pages\n",
    "layout_tables = camelot.read_pdf('SeriesHistoricas_Layout.pdf', pages='all', flavor='lattice')\n",
    "\n",
    "# fetch all tables and adjusts format\n",
    "tables = []\n",
    "for n in range(layout_tables.n):\n",
    "    temp = layout_tables[n].df\n",
    "#     temp.columns = [str(j).replace('\\n','').strip() for j in temp.iloc[0].values]\n",
    "    temp.columns = ['NAME', 'CONTENT','KIND AND SIZE', 'INIT', 'END']    # set standard column names\n",
    "    temp.drop(0,axis=0, inplace=True)\n",
    "    tables.append(temp)"
   ]
  },
  {
   "cell_type": "code",
   "execution_count": 3,
   "metadata": {
    "ExecuteTime": {
     "end_time": "2020-02-22T15:23:27.779394Z",
     "start_time": "2020-02-22T15:23:27.766255Z"
    }
   },
   "outputs": [],
   "source": [
    "# concatenating tables into one big table\n",
    "tb = pd.DataFrame()\n",
    "header = np.NAN\n",
    "for i in range(len(tables)):\n",
    "    if not tables[i]['CONTENT'].str.contains('COTAHIST.AAAA').sum()>0:  # if not HEADER, add to big table\n",
    "        tb = pd.concat([tb,tables[i]], axis=0)\n",
    "    else:\n",
    "        header=tables[i]"
   ]
  },
  {
   "cell_type": "markdown",
   "metadata": {},
   "source": [
    "### removing special characters\n",
    "\n",
    "we'll remove break lines special character '\\n'."
   ]
  },
  {
   "cell_type": "code",
   "execution_count": 4,
   "metadata": {
    "ExecuteTime": {
     "end_time": "2020-02-22T15:23:27.977400Z",
     "start_time": "2020-02-22T15:23:27.910829Z"
    }
   },
   "outputs": [],
   "source": [
    "# header\n",
    "header['NAME'] = header['NAME'].str.replace('\\n','')\n",
    "header['CONTENT'] = header['CONTENT'].str.replace('\\n','')\n",
    "\n",
    "# big layout table\n",
    "tb['NAME'] = tb['NAME'].str.replace('\\n','')\n",
    "tb['CONTENT'] = tb['CONTENT'].str.replace('V\\n','').str.replace('\\n','').str.replace(' ER ',' VER ')"
   ]
  },
  {
   "cell_type": "markdown",
   "metadata": {},
   "source": [
    "### resetting index"
   ]
  },
  {
   "cell_type": "code",
   "execution_count": 5,
   "metadata": {
    "ExecuteTime": {
     "end_time": "2020-02-22T15:23:28.108076Z",
     "start_time": "2020-02-22T15:23:28.100658Z"
    }
   },
   "outputs": [],
   "source": [
    "# dropping old index\n",
    "header = header.reset_index().drop('index', axis=1)\n",
    "tb = tb.reset_index().drop('index', axis=1)"
   ]
  },
  {
   "cell_type": "markdown",
   "metadata": {},
   "source": [
    "## Exporting into csv"
   ]
  },
  {
   "cell_type": "code",
   "execution_count": 6,
   "metadata": {
    "ExecuteTime": {
     "end_time": "2020-02-22T15:23:28.222458Z",
     "start_time": "2020-02-22T15:23:28.213962Z"
    }
   },
   "outputs": [],
   "source": [
    "header.to_csv('layout_header.csv', sep=';', encoding='utf-8-sig')\n",
    "tb.to_csv('layout_table.csv', sep=';', encoding='utf-8-sig')"
   ]
  },
  {
   "cell_type": "markdown",
   "metadata": {},
   "source": [
    "**End**"
   ]
  }
 ],
 "metadata": {
  "kernelspec": {
   "display_name": "Python 3",
   "language": "python",
   "name": "python3"
  },
  "language_info": {
   "codemirror_mode": {
    "name": "ipython",
    "version": 3
   },
   "file_extension": ".py",
   "mimetype": "text/x-python",
   "name": "python",
   "nbconvert_exporter": "python",
   "pygments_lexer": "ipython3",
   "version": "3.7.4"
  },
  "toc": {
   "base_numbering": 1,
   "nav_menu": {},
   "number_sections": false,
   "sideBar": true,
   "skip_h1_title": false,
   "title_cell": "Table of Contents",
   "title_sidebar": "Contents",
   "toc_cell": false,
   "toc_position": {},
   "toc_section_display": true,
   "toc_window_display": false
  },
  "varInspector": {
   "cols": {
    "lenName": 16,
    "lenType": 16,
    "lenVar": 40
   },
   "kernels_config": {
    "python": {
     "delete_cmd_postfix": "",
     "delete_cmd_prefix": "del ",
     "library": "var_list.py",
     "varRefreshCmd": "print(var_dic_list())"
    },
    "r": {
     "delete_cmd_postfix": ") ",
     "delete_cmd_prefix": "rm(",
     "library": "var_list.r",
     "varRefreshCmd": "cat(var_dic_list()) "
    }
   },
   "types_to_exclude": [
    "module",
    "function",
    "builtin_function_or_method",
    "instance",
    "_Feature"
   ],
   "window_display": false
  }
 },
 "nbformat": 4,
 "nbformat_minor": 2
}

{
 "cells": [
  {
   "cell_type": "markdown",
   "metadata": {},
   "source": [
    "# Creating Historical Database"
   ]
  },
  {
   "cell_type": "code",
   "execution_count": 1,
   "metadata": {
    "ExecuteTime": {
     "end_time": "2020-05-09T20:56:35.233469Z",
     "start_time": "2020-05-09T20:56:32.889765Z"
    }
   },
   "outputs": [],
   "source": [
    "import os\n",
    "import tqdm\n",
    "import zipfile\n",
    "import numpy as np\n",
    "import pandas as pd\n",
    "\n",
    "# speeds up pandas\n",
    "# reference: https://towardsdatascience.com/one-word-of-code-to-stop-using-pandas-so-slowly-793e0a81343c\n",
    "#import swifter\n",
    "\n",
    "from collections import defaultdict"
   ]
  },
  {
   "cell_type": "code",
   "execution_count": 2,
   "metadata": {
    "ExecuteTime": {
     "end_time": "2020-05-09T20:56:35.314645Z",
     "start_time": "2020-05-09T20:56:35.307703Z"
    }
   },
   "outputs": [],
   "source": [
    "datapath = './data'\n",
    "unzip_path = './unzipped_data'"
   ]
  },
  {
   "cell_type": "markdown",
   "metadata": {},
   "source": [
    "<br>\n",
    "\n",
    "## Getting layout info"
   ]
  },
  {
   "cell_type": "code",
   "execution_count": 3,
   "metadata": {
    "ExecuteTime": {
     "end_time": "2020-05-09T20:56:37.133875Z",
     "start_time": "2020-05-09T20:56:37.089854Z"
    }
   },
   "outputs": [],
   "source": [
    "header = pd.read_csv('layout_header.csv', sep=';', encoding='utf-8-sig', index_col=0)\n",
    "layout = pd.read_csv('layout_table.csv', sep=';', encoding='utf-8-sig', index_col=0)"
   ]
  },
  {
   "cell_type": "markdown",
   "metadata": {},
   "source": [
    "### preparing info columns"
   ]
  },
  {
   "cell_type": "code",
   "execution_count": 4,
   "metadata": {
    "ExecuteTime": {
     "end_time": "2020-05-09T20:56:39.189549Z",
     "start_time": "2020-05-09T20:56:39.181907Z"
    }
   },
   "outputs": [],
   "source": [
    "# column with variable names\n",
    "layout['PREFIX'] = layout['NAME'].apply(lambda x:str(x).split(' -')[0])  # short name for each column"
   ]
  },
  {
   "cell_type": "markdown",
   "metadata": {},
   "source": [
    "<br>\n",
    "\n",
    "## Importing historical data\n",
    "\n",
    "### unzipping files"
   ]
  },
  {
   "cell_type": "code",
   "execution_count": 5,
   "metadata": {
    "ExecuteTime": {
     "end_time": "2020-05-09T20:56:40.162028Z",
     "start_time": "2020-05-09T20:56:40.144745Z"
    }
   },
   "outputs": [],
   "source": [
    "zipNames = os.listdir(datapath)"
   ]
  },
  {
   "cell_type": "code",
   "execution_count": 6,
   "metadata": {
    "ExecuteTime": {
     "end_time": "2020-05-09T20:56:45.958206Z",
     "start_time": "2020-05-09T20:56:41.304881Z"
    }
   },
   "outputs": [],
   "source": [
    "# extracting zip files\n",
    "for file in zipNames:\n",
    "    with zipfile.ZipFile(f'./data/{file}', 'r') as zip_ref:\n",
    "        zip_ref.extractall('./unzipped_data')"
   ]
  },
  {
   "cell_type": "markdown",
   "metadata": {},
   "source": [
    "### Importing into pandas dataframe"
   ]
  },
  {
   "cell_type": "code",
   "execution_count": 7,
   "metadata": {
    "ExecuteTime": {
     "end_time": "2020-05-09T20:56:46.158406Z",
     "start_time": "2020-05-09T20:56:46.147654Z"
    }
   },
   "outputs": [],
   "source": [
    "unzipNames = os.listdir(unzip_path)"
   ]
  },
  {
   "cell_type": "code",
   "execution_count": 8,
   "metadata": {
    "ExecuteTime": {
     "end_time": "2020-05-09T20:56:48.156581Z",
     "start_time": "2020-05-09T20:56:46.285919Z"
    }
   },
   "outputs": [],
   "source": [
    "df = pd.read_table(f'./unzipped_data/{unzipNames[0]}')"
   ]
  },
  {
   "cell_type": "code",
   "execution_count": 9,
   "metadata": {
    "ExecuteTime": {
     "end_time": "2020-05-09T20:56:48.309094Z",
     "start_time": "2020-05-09T20:56:48.305923Z"
    }
   },
   "outputs": [],
   "source": [
    "# df.head()"
   ]
  },
  {
   "cell_type": "markdown",
   "metadata": {},
   "source": [
    "## parsing layout to database\n",
    "\n",
    "### header"
   ]
  },
  {
   "cell_type": "code",
   "execution_count": 10,
   "metadata": {
    "ExecuteTime": {
     "end_time": "2020-05-09T20:56:48.432834Z",
     "start_time": "2020-05-09T20:56:48.424104Z"
    }
   },
   "outputs": [],
   "source": [
    "h = df.columns[0].strip()  # header string (column name of df)\n",
    "\n",
    "head = defaultdict()\n",
    "for row in range(header.shape[0]):\n",
    "    init = header.loc[row, 'INIT'] - 1  # start position\n",
    "    end = header.loc[row, 'END']        # end position (p.s: Pythonic way of indexing ;)\n",
    "    \n",
    "    field = header.loc[row,'NAME']      # field name\n",
    "    \n",
    "    head[field] = h[init:end].strip()   # values (also removing spaces)\n",
    "\n",
    "head = dict(head)                       # changing from defaultdict to regular dict"
   ]
  },
  {
   "cell_type": "markdown",
   "metadata": {
    "ExecuteTime": {
     "end_time": "2020-02-22T15:40:06.322830Z",
     "start_time": "2020-02-22T15:40:06.316978Z"
    }
   },
   "source": [
    "### data\n",
    "\n",
    "tried to use swifter in this part, but pandas apply is still too slow.\n",
    "\n",
    "<font color='red' size='3'>**p.s.:** vectorization with numpy seems to be the best solution <font>"
   ]
  },
  {
   "cell_type": "code",
   "execution_count": 11,
   "metadata": {
    "ExecuteTime": {
     "end_time": "2020-05-09T20:56:48.581296Z",
     "start_time": "2020-05-09T20:56:48.564664Z"
    }
   },
   "outputs": [],
   "source": [
    "def get_values(df, layout, prefixes=\"all\"):\n",
    "    '''\n",
    "    Parses a single-column dataframe to multiple column one according the layout passed.\n",
    "    \n",
    "    Arguments:\n",
    "        - df (pandas.DataFrame): single-column dataframe with all historical data (just read the historical \n",
    "            data text file into pandas dataframe with pandas.readtable and parse it entirely)\n",
    "        - layout (pandas.DataFrame): layout table\n",
    "        - prefixes (list): list of prefixes for desired columns/fields names\n",
    "    \n",
    "    Output:\n",
    "        Returns a big dictionary in the following format:\n",
    "            {\n",
    "                prefix1:[values_for_prefix1],\n",
    "                prefix2:[values_for_prefix2]\n",
    "            }\n",
    "    \n",
    "    p.s.: to transform it into a dataframe, just pass it inside the command pd.DataFrame().\n",
    "    '''\n",
    "    \n",
    "    old_col = df.columns[0] # old column name\n",
    "    values_dict = defaultdict()    # defaultdict to store all prefixes values\n",
    "   \n",
    "    # defines prefixes list to all available in the layout table (if a list was not passed by the user)\n",
    "    if prefixes == \"all\":\n",
    "        prefixes = layout['PREFIX']\n",
    "        \n",
    "    for prefix in tqdm.tqdm(prefixes):\n",
    "        field_info = layout[layout['PREFIX'] == prefix]\n",
    "\n",
    "        init = field_info.loc[:,'INIT'].values[0] - 1        # start position\n",
    "        end = field_info.loc[:,'END'].values[0]              # end position (p.s: Pythonic way of indexing ;)\n",
    "\n",
    "        values_dict[prefix] = []    # default value is an empty list (the real values will be appended to it)\n",
    "        for i in range(df.shape[0]):\n",
    "            values_dict[prefix].append(df[old_col].values[i][init:end])\n",
    "        \n",
    "    return dict(values_dict)"
   ]
  },
  {
   "cell_type": "code",
   "execution_count": 14,
   "metadata": {
    "ExecuteTime": {
     "end_time": "2020-05-09T20:58:06.167033Z",
     "start_time": "2020-05-09T20:57:42.163422Z"
    }
   },
   "outputs": [
    {
     "name": "stderr",
     "output_type": "stream",
     "text": [
      "100%|██████████| 26/26 [00:23<00:00,  1.12it/s]\n"
     ]
    }
   ],
   "source": [
    "data_df = get_values(df, layout)\n",
    "data_df = pd.DataFrame(data_df)"
   ]
  },
  {
   "cell_type": "markdown",
   "metadata": {},
   "source": [
    "### exporting data"
   ]
  },
  {
   "cell_type": "code",
   "execution_count": 15,
   "metadata": {
    "ExecuteTime": {
     "end_time": "2020-05-09T20:59:05.489795Z",
     "start_time": "2020-05-09T20:59:02.357486Z"
    }
   },
   "outputs": [],
   "source": [
    "# metadata\n",
    "file_name = unzipNames[0]\n",
    "file_name = file_name.split('.')[0]\n",
    "\n",
    "with open(f'./output/{file_name}-metadata.txt','w') as f:\n",
    "    f.write(str(head))\n",
    "\n",
    "data_df.to_csv(f'./output/{file_name}.csv', sep=';', encoding='utf-8-sig')"
   ]
  },
  {
   "cell_type": "markdown",
   "metadata": {},
   "source": [
    "**end**"
   ]
  }
 ],
 "metadata": {
  "kernelspec": {
   "display_name": "Python 3",
   "language": "python",
   "name": "python3"
  },
  "language_info": {
   "codemirror_mode": {
    "name": "ipython",
    "version": 3
   },
   "file_extension": ".py",
   "mimetype": "text/x-python",
   "name": "python",
   "nbconvert_exporter": "python",
   "pygments_lexer": "ipython3",
   "version": "3.8.2"
  },
  "latex_envs": {
   "LaTeX_envs_menu_present": true,
   "autoclose": false,
   "autocomplete": true,
   "bibliofile": "biblio.bib",
   "cite_by": "apalike",
   "current_citInitial": 1,
   "eqLabelWithNumbers": true,
   "eqNumInitial": 1,
   "hotkeys": {
    "equation": "Ctrl-E",
    "itemize": "Ctrl-I"
   },
   "labels_anchors": false,
   "latex_user_defs": false,
   "report_style_numbering": false,
   "user_envs_cfg": false
  },
  "toc": {
   "base_numbering": 1,
   "nav_menu": {},
   "number_sections": false,
   "sideBar": true,
   "skip_h1_title": false,
   "title_cell": "Table of Contents",
   "title_sidebar": "Contents",
   "toc_cell": false,
   "toc_position": {},
   "toc_section_display": true,
   "toc_window_display": false
  },
  "varInspector": {
   "cols": {
    "lenName": 16,
    "lenType": 16,
    "lenVar": 40
   },
   "kernels_config": {
    "python": {
     "delete_cmd_postfix": "",
     "delete_cmd_prefix": "del ",
     "library": "var_list.py",
     "varRefreshCmd": "print(var_dic_list())"
    },
    "r": {
     "delete_cmd_postfix": ") ",
     "delete_cmd_prefix": "rm(",
     "library": "var_list.r",
     "varRefreshCmd": "cat(var_dic_list()) "
    }
   },
   "types_to_exclude": [
    "module",
    "function",
    "builtin_function_or_method",
    "instance",
    "_Feature"
   ],
   "window_display": false
  }
 },
 "nbformat": 4,
 "nbformat_minor": 2
}

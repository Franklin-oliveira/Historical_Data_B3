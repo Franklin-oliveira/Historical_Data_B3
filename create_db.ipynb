{
 "cells": [
  {
   "cell_type": "markdown",
   "metadata": {},
   "source": [
    "# Creating Historical Database"
   ]
  },
  {
   "cell_type": "code",
   "execution_count": 1,
   "metadata": {
    "ExecuteTime": {
     "end_time": "2020-05-09T18:07:49.522498Z",
     "start_time": "2020-05-09T18:07:48.588624Z"
    }
   },
   "outputs": [],
   "source": [
    "import os\n",
    "import tqdm\n",
    "import zipfile\n",
    "import numpy as np\n",
    "import pandas as pd\n",
    "\n",
    "# speeds up pandas\n",
    "# reference: https://towardsdatascience.com/one-word-of-code-to-stop-using-pandas-so-slowly-793e0a81343c\n",
    "import swifter\n",
    "\n",
    "from collections import defaultdict"
   ]
  },
  {
   "cell_type": "code",
   "execution_count": 2,
   "metadata": {
    "ExecuteTime": {
     "end_time": "2020-05-09T18:07:50.083972Z",
     "start_time": "2020-05-09T18:07:50.081141Z"
    }
   },
   "outputs": [],
   "source": [
    "datapath = './data'\n",
    "unzip_path = './unzipped_data'"
   ]
  },
  {
   "cell_type": "markdown",
   "metadata": {},
   "source": [
    "<br>\n",
    "\n",
    "## Getting layout info"
   ]
  },
  {
   "cell_type": "code",
   "execution_count": 3,
   "metadata": {
    "ExecuteTime": {
     "end_time": "2020-05-09T18:07:50.612329Z",
     "start_time": "2020-05-09T18:07:50.599205Z"
    }
   },
   "outputs": [],
   "source": [
    "header = pd.read_csv('layout_header.csv', sep=';', encoding='utf-8-sig', index_col=0)\n",
    "layout = pd.read_csv('layout_table.csv', sep=';', encoding='utf-8-sig', index_col=0)"
   ]
  },
  {
   "cell_type": "markdown",
   "metadata": {},
   "source": [
    "### preparing info columns"
   ]
  },
  {
   "cell_type": "code",
   "execution_count": 4,
   "metadata": {
    "ExecuteTime": {
     "end_time": "2020-05-09T18:07:51.822658Z",
     "start_time": "2020-05-09T18:07:51.816392Z"
    }
   },
   "outputs": [],
   "source": [
    "layout['PREFIX'] = layout['NAME'].apply(lambda x:str(x).split(' -')[0])  # short name for each column"
   ]
  },
  {
   "cell_type": "markdown",
   "metadata": {},
   "source": [
    "<br>\n",
    "\n",
    "## Importing historical data\n",
    "\n",
    "### unzipping files"
   ]
  },
  {
   "cell_type": "code",
   "execution_count": 5,
   "metadata": {
    "ExecuteTime": {
     "end_time": "2020-05-09T18:07:53.151086Z",
     "start_time": "2020-05-09T18:07:53.147489Z"
    }
   },
   "outputs": [],
   "source": [
    "zipNames = os.listdir(datapath)"
   ]
  },
  {
   "cell_type": "code",
   "execution_count": 6,
   "metadata": {
    "ExecuteTime": {
     "end_time": "2020-05-09T18:07:56.639964Z",
     "start_time": "2020-05-09T18:07:53.584383Z"
    }
   },
   "outputs": [],
   "source": [
    "for file in zipNames:\n",
    "    with zipfile.ZipFile(f'./data/{file}', 'r') as zip_ref:\n",
    "        zip_ref.extractall('./unzipped_data')"
   ]
  },
  {
   "cell_type": "markdown",
   "metadata": {},
   "source": [
    "### Importing into pandas dataframe"
   ]
  },
  {
   "cell_type": "code",
   "execution_count": 7,
   "metadata": {
    "ExecuteTime": {
     "end_time": "2020-05-09T18:07:56.696451Z",
     "start_time": "2020-05-09T18:07:56.690007Z"
    }
   },
   "outputs": [],
   "source": [
    "unzipNames = os.listdir(unzip_path)"
   ]
  },
  {
   "cell_type": "code",
   "execution_count": 8,
   "metadata": {
    "ExecuteTime": {
     "end_time": "2020-05-09T18:07:58.939474Z",
     "start_time": "2020-05-09T18:07:57.146344Z"
    }
   },
   "outputs": [],
   "source": [
    "df = pd.read_table(f'./unzipped_data/{unzipNames[0]}')"
   ]
  },
  {
   "cell_type": "code",
   "execution_count": 11,
   "metadata": {
    "ExecuteTime": {
     "end_time": "2020-05-09T18:08:50.931289Z",
     "start_time": "2020-05-09T18:08:50.914578Z"
    }
   },
   "outputs": [
    {
     "data": {
      "text/html": [
       "<div>\n",
       "<style scoped>\n",
       "    .dataframe tbody tr th:only-of-type {\n",
       "        vertical-align: middle;\n",
       "    }\n",
       "\n",
       "    .dataframe tbody tr th {\n",
       "        vertical-align: top;\n",
       "    }\n",
       "\n",
       "    .dataframe thead th {\n",
       "        text-align: right;\n",
       "    }\n",
       "</style>\n",
       "<table border=\"1\" class=\"dataframe\">\n",
       "  <thead>\n",
       "    <tr style=\"text-align: right;\">\n",
       "      <th></th>\n",
       "      <th>00COTAHIST.2010BOVESPA 20101230</th>\n",
       "    </tr>\n",
       "  </thead>\n",
       "  <tbody>\n",
       "    <tr>\n",
       "      <th>0</th>\n",
       "      <td>012010010402ABCB4       010ABC BRASIL  PN  EJ ...</td>\n",
       "    </tr>\n",
       "    <tr>\n",
       "      <th>1</th>\n",
       "      <td>012010010496ABCB4F      020ABC BRASIL  PN  EJ ...</td>\n",
       "    </tr>\n",
       "    <tr>\n",
       "      <th>2</th>\n",
       "      <td>012010010402ABNB3       010ABNOTE      ON  ED ...</td>\n",
       "    </tr>\n",
       "    <tr>\n",
       "      <th>3</th>\n",
       "      <td>012010010496ABNB3F      020ABNOTE      ON  ED ...</td>\n",
       "    </tr>\n",
       "    <tr>\n",
       "      <th>4</th>\n",
       "      <td>012010010462ABNB3T      030ABNOTE      ON  ED ...</td>\n",
       "    </tr>\n",
       "  </tbody>\n",
       "</table>\n",
       "</div>"
      ],
      "text/plain": [
       "  00COTAHIST.2010BOVESPA 20101230                                                                                                                                                                                                                      \n",
       "0  012010010402ABCB4       010ABC BRASIL  PN  EJ ...                                                                                                                                                                                                   \n",
       "1  012010010496ABCB4F      020ABC BRASIL  PN  EJ ...                                                                                                                                                                                                   \n",
       "2  012010010402ABNB3       010ABNOTE      ON  ED ...                                                                                                                                                                                                   \n",
       "3  012010010496ABNB3F      020ABNOTE      ON  ED ...                                                                                                                                                                                                   \n",
       "4  012010010462ABNB3T      030ABNOTE      ON  ED ...                                                                                                                                                                                                   "
      ]
     },
     "execution_count": 11,
     "metadata": {},
     "output_type": "execute_result"
    }
   ],
   "source": [
    "df.head()"
   ]
  },
  {
   "cell_type": "markdown",
   "metadata": {},
   "source": [
    "## parsing layout to database\n",
    "\n",
    "### header"
   ]
  },
  {
   "cell_type": "code",
   "execution_count": 14,
   "metadata": {
    "ExecuteTime": {
     "end_time": "2020-05-09T18:09:37.178165Z",
     "start_time": "2020-05-09T18:09:37.169580Z"
    }
   },
   "outputs": [],
   "source": [
    "h = df.columns[0].strip()  # header string (column name of df)\n",
    "\n",
    "head = defaultdict()\n",
    "for row in range(header.shape[0]):\n",
    "    init = header.loc[row, 'INIT'] - 1  # start position\n",
    "    end = header.loc[row, 'END']        # end position (p.s: Pythonic way of indexing ;)\n",
    "    \n",
    "    field = header.loc[row,'NAME']      # field name\n",
    "    \n",
    "    head[field] = h[init:end].strip()   # values (also removing spaces)\n",
    "\n",
    "head = dict(head)                       # changing from defaultdict to regular dict"
   ]
  },
  {
   "cell_type": "markdown",
   "metadata": {
    "ExecuteTime": {
     "end_time": "2020-02-22T15:40:06.322830Z",
     "start_time": "2020-02-22T15:40:06.316978Z"
    }
   },
   "source": [
    "### data"
   ]
  },
  {
   "cell_type": "code",
   "execution_count": 13,
   "metadata": {
    "ExecuteTime": {
     "end_time": "2020-05-09T18:08:56.656386Z",
     "start_time": "2020-05-09T18:08:56.651126Z"
    }
   },
   "outputs": [],
   "source": [
    "# counter = 0              # counts row number\n",
    "# data = pd.DataFrame()    \n",
    "# for i in range(df.shape[0]):\n",
    "#     val = df.loc[i].values[0]\n",
    "    \n",
    "#     for row in range(layout.shape[0]):\n",
    "#         init = layout.loc[row, 'INIT'] - 1        # start position\n",
    "#         end = layout.loc[row, 'END']              # end position (p.s: Pythonic way of indexing ;)\n",
    "#         field = layout.loc[row,'PREFIX']          # field name\n",
    "\n",
    "#         data.loc[counter,field] = val[init:end]   # values into row = counter\n",
    "    \n",
    "#     counter += 1  # advancing counter\n",
    "        "
   ]
  },
  {
   "cell_type": "code",
   "execution_count": 152,
   "metadata": {
    "ExecuteTime": {
     "end_time": "2020-02-22T22:21:35.135429Z",
     "start_time": "2020-02-22T22:21:35.128604Z"
    }
   },
   "outputs": [],
   "source": [
    "def get_values(string_row, layout, prefix):\n",
    "    '''\n",
    "    applies layout to a row of historical data table.\n",
    "    \n",
    "    Arguments:\n",
    "        - string_row (str): row of historical dataframe (just read the historical data \n",
    "            text file into pandas dataframe with pandas.readtable and parse one row at a time)\n",
    "        - prefix (str): prefix of the column/field name\n",
    "        - layout (pandas.dataframe): layout table\n",
    "    \n",
    "    returns the value of that field for the parsed row.\n",
    "    '''\n",
    "    field_info = layout[layout['PREFIX'] == prefix]\n",
    "    \n",
    "    init = field_info.loc[:,'INIT'].values[0] - 1        # start position\n",
    "    end = field_info.loc[:,'END'].values[0]              # end position (p.s: Pythonic way of indexing ;)\n",
    "    \n",
    "    return string_row[init:end]\n",
    "\n",
    "def get_multiple_values(string_row, layout, prefixes=\"all\"):\n",
    "    '''\n",
    "    Gets multiple values from a row of historical data table (according to layout).\n",
    "    \n",
    "    Arguments:\n",
    "        - string_row (str): row of historical dataframe (just read the historical data \n",
    "            text file into pandas dataframe with pandas.readtable and parse one row at a time)\n",
    "        - prefixes (str): prefix of the column/field name\n",
    "        - layout (pandas.dataframe): layout table\n",
    "    \n",
    "    returns the value of that field for the parsed row.\n",
    "    '''\n",
    "    if prefixes == \"all\":\n",
    "        prefixes = layout[\"PREFIX\"]\n",
    "        \n",
    "    values = []\n",
    "    for prefix in prefixes:\n",
    "        values.append(get_values(string_row, layout, prefix))\n",
    "    \n",
    "    return values"
   ]
  },
  {
   "cell_type": "code",
   "execution_count": 126,
   "metadata": {
    "ExecuteTime": {
     "end_time": "2020-02-22T22:02:42.653831Z",
     "start_time": "2020-02-22T20:12:53.895756Z"
    }
   },
   "outputs": [
    {
     "name": "stderr",
     "output_type": "stream",
     "text": [
      "\n",
      "  0%|          | 0/26 [00:00<?, ?it/s]\u001b[A\n",
      "  4%|▍         | 1/26 [04:12<1:45:22, 252.89s/it]\u001b[A\n",
      "  8%|▊         | 2/26 [08:26<1:41:16, 253.19s/it]\u001b[A\n",
      " 12%|█▏        | 3/26 [12:39<1:37:01, 253.12s/it]\u001b[A\n",
      " 15%|█▌        | 4/26 [16:51<1:32:42, 252.85s/it]\u001b[A\n",
      " 19%|█▉        | 5/26 [21:05<1:28:37, 253.20s/it]\u001b[A\n",
      " 23%|██▎       | 6/26 [25:18<1:24:22, 253.12s/it]\u001b[A\n",
      " 27%|██▋       | 7/26 [29:32<1:20:13, 253.34s/it]\u001b[A\n",
      " 31%|███       | 8/26 [33:46<1:16:01, 253.44s/it]\u001b[A\n",
      " 35%|███▍      | 9/26 [37:59<1:11:48, 253.42s/it]\u001b[A\n",
      " 38%|███▊      | 10/26 [42:12<1:07:32, 253.26s/it]\u001b[A\n",
      " 42%|████▏     | 11/26 [46:25<1:03:16, 253.12s/it]\u001b[A\n",
      " 46%|████▌     | 12/26 [50:38<59:02, 253.04s/it]  \u001b[A\n",
      " 50%|█████     | 13/26 [54:52<54:54, 253.44s/it]\u001b[A\n",
      " 54%|█████▍    | 14/26 [59:06<50:42, 253.56s/it]\u001b[A\n",
      " 58%|█████▊    | 15/26 [1:03:19<46:28, 253.47s/it]\u001b[A\n",
      " 62%|██████▏   | 16/26 [1:07:32<42:13, 253.38s/it]\u001b[A\n",
      " 65%|██████▌   | 17/26 [1:11:47<38:03, 253.76s/it]\u001b[A\n",
      " 69%|██████▉   | 18/26 [1:16:00<33:47, 253.46s/it]\u001b[A\n",
      " 73%|███████▎  | 19/26 [1:20:14<29:34, 253.51s/it]\u001b[A\n",
      " 77%|███████▋  | 20/26 [1:24:27<25:20, 253.39s/it]\u001b[A\n",
      " 81%|████████  | 21/26 [1:28:42<21:10, 254.07s/it]\u001b[A\n",
      " 85%|████████▍ | 22/26 [1:32:55<16:54, 253.68s/it]\u001b[A\n",
      " 88%|████████▊ | 23/26 [1:37:10<12:42, 254.02s/it]\u001b[A\n",
      " 92%|█████████▏| 24/26 [1:41:22<08:26, 253.37s/it]\u001b[A\n",
      " 96%|█████████▌| 25/26 [1:45:35<04:13, 253.35s/it]\u001b[A\n",
      "100%|██████████| 26/26 [1:49:48<00:00, 253.41s/it]\u001b[A\n"
     ]
    }
   ],
   "source": [
    "old_col = df.columns[0]\n",
    "for p in tqdm.tqdm(layout['PREFIX']):\n",
    "    df[p] = df[old_col].apply(lambda x: get_values(x, layout, p))"
   ]
  },
  {
   "cell_type": "code",
   "execution_count": 154,
   "metadata": {
    "ExecuteTime": {
     "end_time": "2020-02-22T22:24:06.844804Z",
     "start_time": "2020-02-22T22:24:06.825465Z"
    }
   },
   "outputs": [
    {
     "data": {
      "text/html": [
       "<div>\n",
       "<style scoped>\n",
       "    .dataframe tbody tr th:only-of-type {\n",
       "        vertical-align: middle;\n",
       "    }\n",
       "\n",
       "    .dataframe tbody tr th {\n",
       "        vertical-align: top;\n",
       "    }\n",
       "\n",
       "    .dataframe thead th {\n",
       "        text-align: right;\n",
       "    }\n",
       "</style>\n",
       "<table border=\"1\" class=\"dataframe\">\n",
       "  <thead>\n",
       "    <tr style=\"text-align: right;\">\n",
       "      <th></th>\n",
       "      <th>NAME</th>\n",
       "      <th>CONTENT</th>\n",
       "      <th>KIND AND SIZE</th>\n",
       "      <th>INIT</th>\n",
       "      <th>END</th>\n",
       "      <th>PREFIX</th>\n",
       "    </tr>\n",
       "  </thead>\n",
       "  <tbody>\n",
       "    <tr>\n",
       "      <td>0</td>\n",
       "      <td>TIPREG - TIPO DE REGISTRO</td>\n",
       "      <td>FIXO “01”</td>\n",
       "      <td>N(02)</td>\n",
       "      <td>1</td>\n",
       "      <td>2</td>\n",
       "      <td>TIPREG</td>\n",
       "    </tr>\n",
       "    <tr>\n",
       "      <td>1</td>\n",
       "      <td>DATA DO PREGÃO</td>\n",
       "      <td>FORMATO  “AAAAMMDD”</td>\n",
       "      <td>N(08)</td>\n",
       "      <td>3</td>\n",
       "      <td>10</td>\n",
       "      <td>DATA DO PREGÃO</td>\n",
       "    </tr>\n",
       "    <tr>\n",
       "      <td>2</td>\n",
       "      <td>CODBDI - CÓDIGO BDI</td>\n",
       "      <td>UTILIZADO PARA CLASSIFICAR OS PAPÉIS NA EMISSÃ...</td>\n",
       "      <td>X(02)</td>\n",
       "      <td>11</td>\n",
       "      <td>12</td>\n",
       "      <td>CODBDI</td>\n",
       "    </tr>\n",
       "    <tr>\n",
       "      <td>3</td>\n",
       "      <td>CODNEG - CÓDIGO DE NEGOCIAÇÃO DO PAPEL</td>\n",
       "      <td>NaN</td>\n",
       "      <td>X(12)</td>\n",
       "      <td>13</td>\n",
       "      <td>24</td>\n",
       "      <td>CODNEG</td>\n",
       "    </tr>\n",
       "    <tr>\n",
       "      <td>4</td>\n",
       "      <td>TPMERC - TIPO DE MERCADO</td>\n",
       "      <td>CÓD. DO MERCADO EM QUE O PAPEL ESTÁ CADASTRADO...</td>\n",
       "      <td>N(03)</td>\n",
       "      <td>25</td>\n",
       "      <td>27</td>\n",
       "      <td>TPMERC</td>\n",
       "    </tr>\n",
       "    <tr>\n",
       "      <td>5</td>\n",
       "      <td>NOMRES - NOME RESUMIDO DA EMPRESA EMISSORA DO ...</td>\n",
       "      <td>NaN</td>\n",
       "      <td>X(12)</td>\n",
       "      <td>28</td>\n",
       "      <td>39</td>\n",
       "      <td>NOMRES</td>\n",
       "    </tr>\n",
       "    <tr>\n",
       "      <td>6</td>\n",
       "      <td>ESPECI - ESPECIFICAÇÃO DO PAPEL</td>\n",
       "      <td>VER TABELA  ANEXA</td>\n",
       "      <td>X(10)</td>\n",
       "      <td>40</td>\n",
       "      <td>49</td>\n",
       "      <td>ESPECI</td>\n",
       "    </tr>\n",
       "    <tr>\n",
       "      <td>7</td>\n",
       "      <td>PRAZOT - PRAZO EM DIAS  DO MERCADO A TERMO</td>\n",
       "      <td>NaN</td>\n",
       "      <td>X(03)</td>\n",
       "      <td>50</td>\n",
       "      <td>52</td>\n",
       "      <td>PRAZOT</td>\n",
       "    </tr>\n",
       "    <tr>\n",
       "      <td>8</td>\n",
       "      <td>MODREF - MOEDA DE REFERÊNCIA</td>\n",
       "      <td>MOEDA USADA NA DATA DO PREGÃO</td>\n",
       "      <td>X(04)</td>\n",
       "      <td>53</td>\n",
       "      <td>56</td>\n",
       "      <td>MODREF</td>\n",
       "    </tr>\n",
       "    <tr>\n",
       "      <td>9</td>\n",
       "      <td>PREABE - PREÇO DE ABERTURA DO PAPEL-MERCADO NO...</td>\n",
       "      <td>NaN</td>\n",
       "      <td>(11)V99</td>\n",
       "      <td>57</td>\n",
       "      <td>69</td>\n",
       "      <td>PREABE</td>\n",
       "    </tr>\n",
       "    <tr>\n",
       "      <td>10</td>\n",
       "      <td>PREMAX - PREÇO MÁXIMO DO PAPEL-MERCADO NO PREGÃO</td>\n",
       "      <td>NaN</td>\n",
       "      <td>(11)V99</td>\n",
       "      <td>70</td>\n",
       "      <td>82</td>\n",
       "      <td>PREMAX</td>\n",
       "    </tr>\n",
       "    <tr>\n",
       "      <td>11</td>\n",
       "      <td>PREMIN - PREÇO MÍNIMO DO PAPEL- MERCADO NO PREGÃO</td>\n",
       "      <td>NaN</td>\n",
       "      <td>(11)V99</td>\n",
       "      <td>83</td>\n",
       "      <td>95</td>\n",
       "      <td>PREMIN</td>\n",
       "    </tr>\n",
       "    <tr>\n",
       "      <td>12</td>\n",
       "      <td>PREMED - PREÇO MÉDIO DO PAPEL- MERCADO NO PREGÃO</td>\n",
       "      <td>NaN</td>\n",
       "      <td>(11)V99</td>\n",
       "      <td>96</td>\n",
       "      <td>108</td>\n",
       "      <td>PREMED</td>\n",
       "    </tr>\n",
       "    <tr>\n",
       "      <td>13</td>\n",
       "      <td>PREULT - PREÇO DO ÚLTIMO NEGÓCIO DO PAPEL-MERC...</td>\n",
       "      <td>NaN</td>\n",
       "      <td>(11)V99</td>\n",
       "      <td>109</td>\n",
       "      <td>121</td>\n",
       "      <td>PREULT</td>\n",
       "    </tr>\n",
       "    <tr>\n",
       "      <td>14</td>\n",
       "      <td>PREOFC - PREÇO DA MELHOR OFERTA DE COMPRA DO P...</td>\n",
       "      <td>NaN</td>\n",
       "      <td>(11)V99</td>\n",
       "      <td>122</td>\n",
       "      <td>134</td>\n",
       "      <td>PREOFC</td>\n",
       "    </tr>\n",
       "    <tr>\n",
       "      <td>15</td>\n",
       "      <td>PREOFV - PREÇO DA MELHOR OFERTA DE VENDA DO  P...</td>\n",
       "      <td>NaN</td>\n",
       "      <td>(11)V99</td>\n",
       "      <td>135</td>\n",
       "      <td>147</td>\n",
       "      <td>PREOFV</td>\n",
       "    </tr>\n",
       "    <tr>\n",
       "      <td>16</td>\n",
       "      <td>TOTNEG - NEG. - NÚMERO DE NEGÓCIOS EFETUADOS C...</td>\n",
       "      <td>NaN</td>\n",
       "      <td>N(05)</td>\n",
       "      <td>148</td>\n",
       "      <td>152</td>\n",
       "      <td>TOTNEG</td>\n",
       "    </tr>\n",
       "    <tr>\n",
       "      <td>17</td>\n",
       "      <td>QUATOT - QUANTIDADE TOTAL DE TÍTULOS NEGOCIADO...</td>\n",
       "      <td>NaN</td>\n",
       "      <td>N(18)</td>\n",
       "      <td>153</td>\n",
       "      <td>170</td>\n",
       "      <td>QUATOT</td>\n",
       "    </tr>\n",
       "    <tr>\n",
       "      <td>18</td>\n",
       "      <td>VOLTOT - VOLUME TOTAL DE TÍTULOS NEGOCIADOS NE...</td>\n",
       "      <td>NaN</td>\n",
       "      <td>(16)V99</td>\n",
       "      <td>171</td>\n",
       "      <td>188</td>\n",
       "      <td>VOLTOT</td>\n",
       "    </tr>\n",
       "    <tr>\n",
       "      <td>19</td>\n",
       "      <td>PREEXE - PREÇO DE EXERCÍCIO PARA O MERCADO DE ...</td>\n",
       "      <td>NaN</td>\n",
       "      <td>(11)V99</td>\n",
       "      <td>189</td>\n",
       "      <td>201</td>\n",
       "      <td>PREEXE</td>\n",
       "    </tr>\n",
       "    <tr>\n",
       "      <td>20</td>\n",
       "      <td>INDOPC - INDICADOR DE CORREÇÃO DE PREÇOS DE EX...</td>\n",
       "      <td>ER TABELA   ANEXA</td>\n",
       "      <td>N(01)</td>\n",
       "      <td>202</td>\n",
       "      <td>202</td>\n",
       "      <td>INDOPC</td>\n",
       "    </tr>\n",
       "    <tr>\n",
       "      <td>21</td>\n",
       "      <td>DATVEN - DATA DO VENCIMENTO PARA OS MERCADOS D...</td>\n",
       "      <td>FORMATO “AAAAMMDD”</td>\n",
       "      <td>N(08)</td>\n",
       "      <td>203</td>\n",
       "      <td>210</td>\n",
       "      <td>DATVEN</td>\n",
       "    </tr>\n",
       "    <tr>\n",
       "      <td>22</td>\n",
       "      <td>FATCOT - FATOR DE COTAÇÃO DO PAPEL</td>\n",
       "      <td>‘‘1’ = COTAÇÃO UNITÁRIA 1000’ = COTAÇÃO POR LO...</td>\n",
       "      <td>N(07)</td>\n",
       "      <td>211</td>\n",
       "      <td>217</td>\n",
       "      <td>FATCOT</td>\n",
       "    </tr>\n",
       "    <tr>\n",
       "      <td>23</td>\n",
       "      <td>PTOEXE - PREÇO DE EXERCÍCIO EM PONTOS PARA OPÇ...</td>\n",
       "      <td>PARA OS REFERENCIADOS EM DÓLAR, CADA PONTO EQU...</td>\n",
       "      <td>(07)V06</td>\n",
       "      <td>218</td>\n",
       "      <td>230</td>\n",
       "      <td>PTOEXE</td>\n",
       "    </tr>\n",
       "    <tr>\n",
       "      <td>24</td>\n",
       "      <td>CODISI - CÓDIGO DO PAPEL NO SISTEMA ISIN OU CÓ...</td>\n",
       "      <td>CÓDIGO DO PAPEL NO SISTEMA ISIN A PARTIR DE 15...</td>\n",
       "      <td>X(12)</td>\n",
       "      <td>231</td>\n",
       "      <td>242</td>\n",
       "      <td>CODISI</td>\n",
       "    </tr>\n",
       "    <tr>\n",
       "      <td>25</td>\n",
       "      <td>DISMES - NÚMERO DE DISTRIBUIÇÃO DO PAPEL</td>\n",
       "      <td>NÚMERO DE SEQÜÊNCIA DO  PAPEL CORRESPONDENTE A...</td>\n",
       "      <td>9(03)</td>\n",
       "      <td>243</td>\n",
       "      <td>245</td>\n",
       "      <td>DISMES</td>\n",
       "    </tr>\n",
       "  </tbody>\n",
       "</table>\n",
       "</div>"
      ],
      "text/plain": [
       "                                                 NAME  \\\n",
       "0                           TIPREG - TIPO DE REGISTRO   \n",
       "1                                      DATA DO PREGÃO   \n",
       "2                                 CODBDI - CÓDIGO BDI   \n",
       "3              CODNEG - CÓDIGO DE NEGOCIAÇÃO DO PAPEL   \n",
       "4                            TPMERC - TIPO DE MERCADO   \n",
       "5   NOMRES - NOME RESUMIDO DA EMPRESA EMISSORA DO ...   \n",
       "6                     ESPECI - ESPECIFICAÇÃO DO PAPEL   \n",
       "7          PRAZOT - PRAZO EM DIAS  DO MERCADO A TERMO   \n",
       "8                        MODREF - MOEDA DE REFERÊNCIA   \n",
       "9   PREABE - PREÇO DE ABERTURA DO PAPEL-MERCADO NO...   \n",
       "10   PREMAX - PREÇO MÁXIMO DO PAPEL-MERCADO NO PREGÃO   \n",
       "11  PREMIN - PREÇO MÍNIMO DO PAPEL- MERCADO NO PREGÃO   \n",
       "12   PREMED - PREÇO MÉDIO DO PAPEL- MERCADO NO PREGÃO   \n",
       "13  PREULT - PREÇO DO ÚLTIMO NEGÓCIO DO PAPEL-MERC...   \n",
       "14  PREOFC - PREÇO DA MELHOR OFERTA DE COMPRA DO P...   \n",
       "15  PREOFV - PREÇO DA MELHOR OFERTA DE VENDA DO  P...   \n",
       "16  TOTNEG - NEG. - NÚMERO DE NEGÓCIOS EFETUADOS C...   \n",
       "17  QUATOT - QUANTIDADE TOTAL DE TÍTULOS NEGOCIADO...   \n",
       "18  VOLTOT - VOLUME TOTAL DE TÍTULOS NEGOCIADOS NE...   \n",
       "19  PREEXE - PREÇO DE EXERCÍCIO PARA O MERCADO DE ...   \n",
       "20  INDOPC - INDICADOR DE CORREÇÃO DE PREÇOS DE EX...   \n",
       "21  DATVEN - DATA DO VENCIMENTO PARA OS MERCADOS D...   \n",
       "22                 FATCOT - FATOR DE COTAÇÃO DO PAPEL   \n",
       "23  PTOEXE - PREÇO DE EXERCÍCIO EM PONTOS PARA OPÇ...   \n",
       "24  CODISI - CÓDIGO DO PAPEL NO SISTEMA ISIN OU CÓ...   \n",
       "25           DISMES - NÚMERO DE DISTRIBUIÇÃO DO PAPEL   \n",
       "\n",
       "                                              CONTENT KIND AND SIZE  INIT  \\\n",
       "0                                           FIXO “01”         N(02)     1   \n",
       "1                                 FORMATO  “AAAAMMDD”         N(08)     3   \n",
       "2   UTILIZADO PARA CLASSIFICAR OS PAPÉIS NA EMISSÃ...         X(02)    11   \n",
       "3                                                 NaN         X(12)    13   \n",
       "4   CÓD. DO MERCADO EM QUE O PAPEL ESTÁ CADASTRADO...         N(03)    25   \n",
       "5                                                 NaN         X(12)    28   \n",
       "6                                   VER TABELA  ANEXA         X(10)    40   \n",
       "7                                                 NaN         X(03)    50   \n",
       "8                       MOEDA USADA NA DATA DO PREGÃO         X(04)    53   \n",
       "9                                                 NaN       (11)V99    57   \n",
       "10                                                NaN       (11)V99    70   \n",
       "11                                                NaN       (11)V99    83   \n",
       "12                                                NaN       (11)V99    96   \n",
       "13                                                NaN       (11)V99   109   \n",
       "14                                                NaN       (11)V99   122   \n",
       "15                                                NaN       (11)V99   135   \n",
       "16                                                NaN         N(05)   148   \n",
       "17                                                NaN         N(18)   153   \n",
       "18                                                NaN       (16)V99   171   \n",
       "19                                                NaN       (11)V99   189   \n",
       "20                                  ER TABELA   ANEXA         N(01)   202   \n",
       "21                                 FORMATO “AAAAMMDD”         N(08)   203   \n",
       "22  ‘‘1’ = COTAÇÃO UNITÁRIA 1000’ = COTAÇÃO POR LO...         N(07)   211   \n",
       "23  PARA OS REFERENCIADOS EM DÓLAR, CADA PONTO EQU...       (07)V06   218   \n",
       "24  CÓDIGO DO PAPEL NO SISTEMA ISIN A PARTIR DE 15...         X(12)   231   \n",
       "25  NÚMERO DE SEQÜÊNCIA DO  PAPEL CORRESPONDENTE A...         9(03)   243   \n",
       "\n",
       "    END          PREFIX  \n",
       "0     2          TIPREG  \n",
       "1    10  DATA DO PREGÃO  \n",
       "2    12          CODBDI  \n",
       "3    24          CODNEG  \n",
       "4    27          TPMERC  \n",
       "5    39          NOMRES  \n",
       "6    49          ESPECI  \n",
       "7    52          PRAZOT  \n",
       "8    56          MODREF  \n",
       "9    69          PREABE  \n",
       "10   82          PREMAX  \n",
       "11   95          PREMIN  \n",
       "12  108          PREMED  \n",
       "13  121          PREULT  \n",
       "14  134          PREOFC  \n",
       "15  147          PREOFV  \n",
       "16  152          TOTNEG  \n",
       "17  170          QUATOT  \n",
       "18  188          VOLTOT  \n",
       "19  201          PREEXE  \n",
       "20  202          INDOPC  \n",
       "21  210          DATVEN  \n",
       "22  217          FATCOT  \n",
       "23  230          PTOEXE  \n",
       "24  242          CODISI  \n",
       "25  245          DISMES  "
      ]
     },
     "execution_count": 154,
     "metadata": {},
     "output_type": "execute_result"
    }
   ],
   "source": [
    "layout"
   ]
  },
  {
   "cell_type": "markdown",
   "metadata": {},
   "source": [
    "### exporting data"
   ]
  },
  {
   "cell_type": "code",
   "execution_count": 151,
   "metadata": {
    "ExecuteTime": {
     "end_time": "2020-02-22T22:13:49.250146Z",
     "start_time": "2020-02-22T22:13:45.966957Z"
    }
   },
   "outputs": [],
   "source": [
    "# metadata\n",
    "file_name = unzipNames[0]\n",
    "file_name = file_name.split('.')[0]\n",
    "\n",
    "with open(f'./output/{file_name}-metadata.txt','w') as f:\n",
    "    f.write(str(head))\n",
    "\n",
    "df.to_csv(f'./output/{file_name}.csv', sep=';', encoding='utf-8-sig')"
   ]
  },
  {
   "cell_type": "markdown",
   "metadata": {},
   "source": [
    "**end**"
   ]
  }
 ],
 "metadata": {
  "kernelspec": {
   "display_name": "Python 3",
   "language": "python",
   "name": "python3"
  },
  "language_info": {
   "codemirror_mode": {
    "name": "ipython",
    "version": 3
   },
   "file_extension": ".py",
   "mimetype": "text/x-python",
   "name": "python",
   "nbconvert_exporter": "python",
   "pygments_lexer": "ipython3",
   "version": "3.8.2"
  },
  "latex_envs": {
   "LaTeX_envs_menu_present": true,
   "autoclose": false,
   "autocomplete": true,
   "bibliofile": "biblio.bib",
   "cite_by": "apalike",
   "current_citInitial": 1,
   "eqLabelWithNumbers": true,
   "eqNumInitial": 1,
   "hotkeys": {
    "equation": "Ctrl-E",
    "itemize": "Ctrl-I"
   },
   "labels_anchors": false,
   "latex_user_defs": false,
   "report_style_numbering": false,
   "user_envs_cfg": false
  },
  "toc": {
   "base_numbering": 1,
   "nav_menu": {},
   "number_sections": false,
   "sideBar": true,
   "skip_h1_title": false,
   "title_cell": "Table of Contents",
   "title_sidebar": "Contents",
   "toc_cell": false,
   "toc_position": {},
   "toc_section_display": true,
   "toc_window_display": false
  },
  "varInspector": {
   "cols": {
    "lenName": 16,
    "lenType": 16,
    "lenVar": 40
   },
   "kernels_config": {
    "python": {
     "delete_cmd_postfix": "",
     "delete_cmd_prefix": "del ",
     "library": "var_list.py",
     "varRefreshCmd": "print(var_dic_list())"
    },
    "r": {
     "delete_cmd_postfix": ") ",
     "delete_cmd_prefix": "rm(",
     "library": "var_list.r",
     "varRefreshCmd": "cat(var_dic_list()) "
    }
   },
   "types_to_exclude": [
    "module",
    "function",
    "builtin_function_or_method",
    "instance",
    "_Feature"
   ],
   "window_display": false
  }
 },
 "nbformat": 4,
 "nbformat_minor": 2
}

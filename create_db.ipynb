{
 "cells": [
  {
   "cell_type": "markdown",
   "metadata": {},
   "source": [
    "# Creating Historical Database"
   ]
  },
  {
   "cell_type": "code",
   "execution_count": 137,
   "metadata": {
    "ExecuteTime": {
     "end_time": "2020-02-21T21:12:16.475425Z",
     "start_time": "2020-02-21T21:12:16.463757Z"
    }
   },
   "outputs": [],
   "source": [
    "import os\n",
    "import zipfile\n",
    "import numpy as np\n",
    "import pandas as pd\n",
    "\n",
    "# fetch tables from PDF\n",
    "import camelot"
   ]
  },
  {
   "cell_type": "code",
   "execution_count": 11,
   "metadata": {
    "ExecuteTime": {
     "end_time": "2020-02-21T19:35:53.446134Z",
     "start_time": "2020-02-21T19:35:53.441425Z"
    }
   },
   "outputs": [],
   "source": [
    "datapath = './data'\n",
    "unzip_path = './unzipped_data'"
   ]
  },
  {
   "cell_type": "markdown",
   "metadata": {},
   "source": [
    "## unzipping files"
   ]
  },
  {
   "cell_type": "code",
   "execution_count": 7,
   "metadata": {
    "ExecuteTime": {
     "end_time": "2020-02-21T19:34:02.768770Z",
     "start_time": "2020-02-21T19:34:02.758670Z"
    }
   },
   "outputs": [],
   "source": [
    "zipNames = os.listdir(datapath)"
   ]
  },
  {
   "cell_type": "code",
   "execution_count": 10,
   "metadata": {
    "ExecuteTime": {
     "end_time": "2020-02-21T19:35:28.150404Z",
     "start_time": "2020-02-21T19:35:23.576241Z"
    }
   },
   "outputs": [],
   "source": [
    "for file in zipNames:\n",
    "    with zipfile.ZipFile(f'./data/{file}', 'r') as zip_ref:\n",
    "        zip_ref.extractall('./unzipped_data')"
   ]
  },
  {
   "cell_type": "markdown",
   "metadata": {},
   "source": [
    "## Importing data"
   ]
  },
  {
   "cell_type": "code",
   "execution_count": 12,
   "metadata": {
    "ExecuteTime": {
     "end_time": "2020-02-21T19:37:00.380801Z",
     "start_time": "2020-02-21T19:37:00.376627Z"
    }
   },
   "outputs": [],
   "source": [
    "unzipNames = os.listdir(unzip_path)"
   ]
  },
  {
   "cell_type": "code",
   "execution_count": 13,
   "metadata": {
    "ExecuteTime": {
     "end_time": "2020-02-21T19:37:22.559748Z",
     "start_time": "2020-02-21T19:37:20.429604Z"
    }
   },
   "outputs": [],
   "source": [
    "df = pd.read_table(f'./unzipped_data/{unzipNames[0]}')"
   ]
  },
  {
   "cell_type": "code",
   "execution_count": 14,
   "metadata": {
    "ExecuteTime": {
     "end_time": "2020-02-21T19:37:26.483310Z",
     "start_time": "2020-02-21T19:37:26.466744Z"
    }
   },
   "outputs": [
    {
     "data": {
      "text/html": [
       "<div>\n",
       "<style scoped>\n",
       "    .dataframe tbody tr th:only-of-type {\n",
       "        vertical-align: middle;\n",
       "    }\n",
       "\n",
       "    .dataframe tbody tr th {\n",
       "        vertical-align: top;\n",
       "    }\n",
       "\n",
       "    .dataframe thead th {\n",
       "        text-align: right;\n",
       "    }\n",
       "</style>\n",
       "<table border=\"1\" class=\"dataframe\">\n",
       "  <thead>\n",
       "    <tr style=\"text-align: right;\">\n",
       "      <th></th>\n",
       "      <th>00COTAHIST.2011BOVESPA 20111229</th>\n",
       "    </tr>\n",
       "  </thead>\n",
       "  <tbody>\n",
       "    <tr>\n",
       "      <td>0</td>\n",
       "      <td>012011010302ABCB4       010ABC BRASIL  PN  EJ ...</td>\n",
       "    </tr>\n",
       "    <tr>\n",
       "      <td>1</td>\n",
       "      <td>012011010396ABCB4F      020ABC BRASIL  PN  EJ ...</td>\n",
       "    </tr>\n",
       "    <tr>\n",
       "      <td>2</td>\n",
       "      <td>012011010312ABCP11      010FII ABC IMOBCI  ER ...</td>\n",
       "    </tr>\n",
       "    <tr>\n",
       "      <td>3</td>\n",
       "      <td>012011010302AEDU3       010ANHANGUERA  ON     ...</td>\n",
       "    </tr>\n",
       "    <tr>\n",
       "      <td>4</td>\n",
       "      <td>012011010396AEDU3F      020ANHANGUERA  ON     ...</td>\n",
       "    </tr>\n",
       "  </tbody>\n",
       "</table>\n",
       "</div>"
      ],
      "text/plain": [
       "  00COTAHIST.2011BOVESPA 20111229                                                                                                                                                                                                                      \n",
       "0  012011010302ABCB4       010ABC BRASIL  PN  EJ ...                                                                                                                                                                                                   \n",
       "1  012011010396ABCB4F      020ABC BRASIL  PN  EJ ...                                                                                                                                                                                                   \n",
       "2  012011010312ABCP11      010FII ABC IMOBCI  ER ...                                                                                                                                                                                                   \n",
       "3  012011010302AEDU3       010ANHANGUERA  ON     ...                                                                                                                                                                                                   \n",
       "4  012011010396AEDU3F      020ANHANGUERA  ON     ...                                                                                                                                                                                                   "
      ]
     },
     "execution_count": 14,
     "metadata": {},
     "output_type": "execute_result"
    }
   ],
   "source": [
    "df.head()"
   ]
  },
  {
   "cell_type": "markdown",
   "metadata": {},
   "source": [
    "## Getting layout info"
   ]
  },
  {
   "cell_type": "code",
   "execution_count": 196,
   "metadata": {
    "ExecuteTime": {
     "end_time": "2020-02-21T21:30:29.952682Z",
     "start_time": "2020-02-21T21:30:15.485943Z"
    }
   },
   "outputs": [],
   "source": [
    "# searches tables in all pages\n",
    "layout_tb = camelot.read_pdf('SeriesHistoricas_Layout.pdf', pages='all', flavor='lattice')\n",
    "\n",
    "# fetch all tables and adjusts format\n",
    "tables = []\n",
    "for n in range(layout_tb.n):\n",
    "    temp = layout_tb[n].df\n",
    "#     temp.columns = [str(j).replace('\\n','').strip() for j in temp.iloc[0].values]\n",
    "    temp.columns = ['NAME', 'CONTENT','KIND AND SIZE', 'INIT', 'END']\n",
    "    temp.drop(0,axis=0, inplace=True)\n",
    "    tables.append(temp)"
   ]
  },
  {
   "cell_type": "code",
   "execution_count": 197,
   "metadata": {
    "ExecuteTime": {
     "end_time": "2020-02-21T21:30:30.023974Z",
     "start_time": "2020-02-21T21:30:30.006623Z"
    }
   },
   "outputs": [],
   "source": [
    "# concatenating tables into one big table\n",
    "tb = pd.DataFrame()\n",
    "header = np.NAN\n",
    "for i in range(len(tables)):\n",
    "    if not tables[i]['CONTENT'].str.contains('COTAHIST.AAAA').sum()>0:  # if not HEADER, add to big table\n",
    "        tb = pd.concat([tb,tables[i]], axis=0)\n",
    "    else:\n",
    "        header=tables[i]"
   ]
  },
  {
   "cell_type": "markdown",
   "metadata": {},
   "source": [
    "### removing special characters"
   ]
  },
  {
   "cell_type": "code",
   "execution_count": 198,
   "metadata": {
    "ExecuteTime": {
     "end_time": "2020-02-21T21:30:30.112612Z",
     "start_time": "2020-02-21T21:30:30.097696Z"
    },
    "scrolled": true
   },
   "outputs": [],
   "source": [
    "tb['NAME'] = tb['NAME'].str.replace('\\n','')\n",
    "tb['CONTENT'] = tb['CONTENT'].str.replace('V\\n','').str.replace('\\n','').str.replace(' ER ',' VER ')"
   ]
  },
  {
   "cell_type": "markdown",
   "metadata": {},
   "source": [
    "### treating info fields"
   ]
  },
  {
   "cell_type": "code",
   "execution_count": 199,
   "metadata": {
    "ExecuteTime": {
     "end_time": "2020-02-21T21:30:30.202761Z",
     "start_time": "2020-02-21T21:30:30.193998Z"
    }
   },
   "outputs": [],
   "source": [
    "tb['PREFIX'] = tb['NAME'].apply(lambda x:str(x).split(' -')[0])"
   ]
  },
  {
   "cell_type": "code",
   "execution_count": 200,
   "metadata": {
    "ExecuteTime": {
     "end_time": "2020-02-21T21:30:30.328467Z",
     "start_time": "2020-02-21T21:30:30.275015Z"
    }
   },
   "outputs": [
    {
     "data": {
      "text/html": [
       "<div>\n",
       "<style scoped>\n",
       "    .dataframe tbody tr th:only-of-type {\n",
       "        vertical-align: middle;\n",
       "    }\n",
       "\n",
       "    .dataframe tbody tr th {\n",
       "        vertical-align: top;\n",
       "    }\n",
       "\n",
       "    .dataframe thead th {\n",
       "        text-align: right;\n",
       "    }\n",
       "</style>\n",
       "<table border=\"1\" class=\"dataframe\">\n",
       "  <thead>\n",
       "    <tr style=\"text-align: right;\">\n",
       "      <th></th>\n",
       "      <th>NAME</th>\n",
       "      <th>CONTENT</th>\n",
       "      <th>KIND AND SIZE</th>\n",
       "      <th>INIT</th>\n",
       "      <th>END</th>\n",
       "      <th>PREFIX</th>\n",
       "    </tr>\n",
       "  </thead>\n",
       "  <tbody>\n",
       "    <tr>\n",
       "      <td>1</td>\n",
       "      <td>TIPREG - TIPO DE REGISTRO</td>\n",
       "      <td>FIXO “01”</td>\n",
       "      <td>N(02)</td>\n",
       "      <td>01</td>\n",
       "      <td>02</td>\n",
       "      <td>TIPREG</td>\n",
       "    </tr>\n",
       "    <tr>\n",
       "      <td>2</td>\n",
       "      <td>DATA DO PREGÃO</td>\n",
       "      <td>FORMATO  “AAAAMMDD”</td>\n",
       "      <td>N(08)</td>\n",
       "      <td>03</td>\n",
       "      <td>10</td>\n",
       "      <td>DATA DO PREGÃO</td>\n",
       "    </tr>\n",
       "    <tr>\n",
       "      <td>3</td>\n",
       "      <td>CODBDI - CÓDIGO BDI</td>\n",
       "      <td>UTILIZADO PARA CLASSIFICAR OS PAPÉIS NA EMISSÃ...</td>\n",
       "      <td>X(02)</td>\n",
       "      <td>11</td>\n",
       "      <td>12</td>\n",
       "      <td>CODBDI</td>\n",
       "    </tr>\n",
       "    <tr>\n",
       "      <td>4</td>\n",
       "      <td>CODNEG - CÓDIGO DE NEGOCIAÇÃO DO PAPEL</td>\n",
       "      <td></td>\n",
       "      <td>X(12)</td>\n",
       "      <td>13</td>\n",
       "      <td>24</td>\n",
       "      <td>CODNEG</td>\n",
       "    </tr>\n",
       "    <tr>\n",
       "      <td>5</td>\n",
       "      <td>TPMERC - TIPO DE MERCADO</td>\n",
       "      <td>CÓD. DO MERCADO EM QUE O PAPEL ESTÁ CADASTRADO...</td>\n",
       "      <td>N(03)</td>\n",
       "      <td>25</td>\n",
       "      <td>27</td>\n",
       "      <td>TPMERC</td>\n",
       "    </tr>\n",
       "    <tr>\n",
       "      <td>6</td>\n",
       "      <td>NOMRES - NOME RESUMIDO DA EMPRESA EMISSORA DO ...</td>\n",
       "      <td></td>\n",
       "      <td>X(12)</td>\n",
       "      <td>28</td>\n",
       "      <td>39</td>\n",
       "      <td>NOMRES</td>\n",
       "    </tr>\n",
       "    <tr>\n",
       "      <td>1</td>\n",
       "      <td>ESPECI - ESPECIFICAÇÃO DO PAPEL</td>\n",
       "      <td>VER TABELA  ANEXA</td>\n",
       "      <td>X(10)</td>\n",
       "      <td>40</td>\n",
       "      <td>49</td>\n",
       "      <td>ESPECI</td>\n",
       "    </tr>\n",
       "    <tr>\n",
       "      <td>2</td>\n",
       "      <td>PRAZOT - PRAZO EM DIAS  DO MERCADO A TERMO</td>\n",
       "      <td></td>\n",
       "      <td>X(03)</td>\n",
       "      <td>50</td>\n",
       "      <td>52</td>\n",
       "      <td>PRAZOT</td>\n",
       "    </tr>\n",
       "    <tr>\n",
       "      <td>3</td>\n",
       "      <td>MODREF - MOEDA DE REFERÊNCIA</td>\n",
       "      <td>MOEDA USADA NA DATA DO PREGÃO</td>\n",
       "      <td>X(04)</td>\n",
       "      <td>53</td>\n",
       "      <td>56</td>\n",
       "      <td>MODREF</td>\n",
       "    </tr>\n",
       "    <tr>\n",
       "      <td>4</td>\n",
       "      <td>PREABE - PREÇO DE ABERTURA DO PAPEL-MERCADO NO...</td>\n",
       "      <td></td>\n",
       "      <td>(11)V99</td>\n",
       "      <td>57</td>\n",
       "      <td>69</td>\n",
       "      <td>PREABE</td>\n",
       "    </tr>\n",
       "    <tr>\n",
       "      <td>5</td>\n",
       "      <td>PREMAX - PREÇO MÁXIMO DO PAPEL-MERCADO NO PREGÃO</td>\n",
       "      <td></td>\n",
       "      <td>(11)V99</td>\n",
       "      <td>70</td>\n",
       "      <td>82</td>\n",
       "      <td>PREMAX</td>\n",
       "    </tr>\n",
       "    <tr>\n",
       "      <td>6</td>\n",
       "      <td>PREMIN - PREÇO MÍNIMO DO PAPEL- MERCADO NO PREGÃO</td>\n",
       "      <td></td>\n",
       "      <td>(11)V99</td>\n",
       "      <td>83</td>\n",
       "      <td>95</td>\n",
       "      <td>PREMIN</td>\n",
       "    </tr>\n",
       "    <tr>\n",
       "      <td>7</td>\n",
       "      <td>PREMED - PREÇO MÉDIO DO PAPEL- MERCADO NO PREGÃO</td>\n",
       "      <td></td>\n",
       "      <td>(11)V99</td>\n",
       "      <td>96</td>\n",
       "      <td>108</td>\n",
       "      <td>PREMED</td>\n",
       "    </tr>\n",
       "    <tr>\n",
       "      <td>8</td>\n",
       "      <td>PREULT - PREÇO DO ÚLTIMO NEGÓCIO DO PAPEL-MERC...</td>\n",
       "      <td></td>\n",
       "      <td>(11)V99</td>\n",
       "      <td>109</td>\n",
       "      <td>121</td>\n",
       "      <td>PREULT</td>\n",
       "    </tr>\n",
       "    <tr>\n",
       "      <td>9</td>\n",
       "      <td>PREOFC - PREÇO DA MELHOR OFERTA DE COMPRA DO P...</td>\n",
       "      <td></td>\n",
       "      <td>(11)V99</td>\n",
       "      <td>122</td>\n",
       "      <td>134</td>\n",
       "      <td>PREOFC</td>\n",
       "    </tr>\n",
       "    <tr>\n",
       "      <td>10</td>\n",
       "      <td>PREOFV - PREÇO DA MELHOR OFERTA DE VENDA DO  P...</td>\n",
       "      <td></td>\n",
       "      <td>(11)V99</td>\n",
       "      <td>135</td>\n",
       "      <td>147</td>\n",
       "      <td>PREOFV</td>\n",
       "    </tr>\n",
       "    <tr>\n",
       "      <td>11</td>\n",
       "      <td>TOTNEG - NEG. - NÚMERO DE NEGÓCIOS EFETUADOS C...</td>\n",
       "      <td></td>\n",
       "      <td>N(05)</td>\n",
       "      <td>148</td>\n",
       "      <td>152</td>\n",
       "      <td>TOTNEG</td>\n",
       "    </tr>\n",
       "    <tr>\n",
       "      <td>12</td>\n",
       "      <td>QUATOT - QUANTIDADE TOTAL DE TÍTULOS NEGOCIADO...</td>\n",
       "      <td></td>\n",
       "      <td>N(18)</td>\n",
       "      <td>153</td>\n",
       "      <td>170</td>\n",
       "      <td>QUATOT</td>\n",
       "    </tr>\n",
       "    <tr>\n",
       "      <td>1</td>\n",
       "      <td>VOLTOT - VOLUME TOTAL DE TÍTULOS NEGOCIADOS NE...</td>\n",
       "      <td></td>\n",
       "      <td>(16)V99</td>\n",
       "      <td>171</td>\n",
       "      <td>188</td>\n",
       "      <td>VOLTOT</td>\n",
       "    </tr>\n",
       "    <tr>\n",
       "      <td>2</td>\n",
       "      <td>PREEXE - PREÇO DE EXERCÍCIO PARA O MERCADO DE ...</td>\n",
       "      <td></td>\n",
       "      <td>(11)V99</td>\n",
       "      <td>189</td>\n",
       "      <td>201</td>\n",
       "      <td>PREEXE</td>\n",
       "    </tr>\n",
       "    <tr>\n",
       "      <td>3</td>\n",
       "      <td>INDOPC - INDICADOR DE CORREÇÃO DE PREÇOS DE EX...</td>\n",
       "      <td>ER TABELA   ANEXA</td>\n",
       "      <td>N(01)</td>\n",
       "      <td>202</td>\n",
       "      <td>202</td>\n",
       "      <td>INDOPC</td>\n",
       "    </tr>\n",
       "    <tr>\n",
       "      <td>4</td>\n",
       "      <td>DATVEN - DATA DO VENCIMENTO PARA OS MERCADOS D...</td>\n",
       "      <td>FORMATO “AAAAMMDD”</td>\n",
       "      <td>N(08)</td>\n",
       "      <td>203</td>\n",
       "      <td>210</td>\n",
       "      <td>DATVEN</td>\n",
       "    </tr>\n",
       "    <tr>\n",
       "      <td>5</td>\n",
       "      <td>FATCOT - FATOR DE COTAÇÃO DO PAPEL</td>\n",
       "      <td>‘‘1’ = COTAÇÃO UNITÁRIA 1000’ = COTAÇÃO POR LO...</td>\n",
       "      <td>N(07)</td>\n",
       "      <td>211</td>\n",
       "      <td>217</td>\n",
       "      <td>FATCOT</td>\n",
       "    </tr>\n",
       "    <tr>\n",
       "      <td>6</td>\n",
       "      <td>PTOEXE - PREÇO DE EXERCÍCIO EM PONTOS PARA OPÇ...</td>\n",
       "      <td>PARA OS REFERENCIADOS EM DÓLAR, CADA PONTO EQU...</td>\n",
       "      <td>(07)V06</td>\n",
       "      <td>218</td>\n",
       "      <td>230</td>\n",
       "      <td>PTOEXE</td>\n",
       "    </tr>\n",
       "    <tr>\n",
       "      <td>7</td>\n",
       "      <td>CODISI - CÓDIGO DO PAPEL NO SISTEMA ISIN OU CÓ...</td>\n",
       "      <td>CÓDIGO DO PAPEL NO SISTEMA ISIN A PARTIR DE 15...</td>\n",
       "      <td>X(12)</td>\n",
       "      <td>231</td>\n",
       "      <td>242</td>\n",
       "      <td>CODISI</td>\n",
       "    </tr>\n",
       "    <tr>\n",
       "      <td>8</td>\n",
       "      <td>DISMES - NÚMERO DE DISTRIBUIÇÃO DO PAPEL</td>\n",
       "      <td>NÚMERO DE SEQÜÊNCIA DO  PAPEL CORRESPONDENTE A...</td>\n",
       "      <td>9(03)</td>\n",
       "      <td>243</td>\n",
       "      <td>245</td>\n",
       "      <td>DISMES</td>\n",
       "    </tr>\n",
       "  </tbody>\n",
       "</table>\n",
       "</div>"
      ],
      "text/plain": [
       "                                                 NAME  \\\n",
       "1                           TIPREG - TIPO DE REGISTRO   \n",
       "2                                      DATA DO PREGÃO   \n",
       "3                                 CODBDI - CÓDIGO BDI   \n",
       "4              CODNEG - CÓDIGO DE NEGOCIAÇÃO DO PAPEL   \n",
       "5                            TPMERC - TIPO DE MERCADO   \n",
       "6   NOMRES - NOME RESUMIDO DA EMPRESA EMISSORA DO ...   \n",
       "1                     ESPECI - ESPECIFICAÇÃO DO PAPEL   \n",
       "2          PRAZOT - PRAZO EM DIAS  DO MERCADO A TERMO   \n",
       "3                        MODREF - MOEDA DE REFERÊNCIA   \n",
       "4   PREABE - PREÇO DE ABERTURA DO PAPEL-MERCADO NO...   \n",
       "5    PREMAX - PREÇO MÁXIMO DO PAPEL-MERCADO NO PREGÃO   \n",
       "6   PREMIN - PREÇO MÍNIMO DO PAPEL- MERCADO NO PREGÃO   \n",
       "7    PREMED - PREÇO MÉDIO DO PAPEL- MERCADO NO PREGÃO   \n",
       "8   PREULT - PREÇO DO ÚLTIMO NEGÓCIO DO PAPEL-MERC...   \n",
       "9   PREOFC - PREÇO DA MELHOR OFERTA DE COMPRA DO P...   \n",
       "10  PREOFV - PREÇO DA MELHOR OFERTA DE VENDA DO  P...   \n",
       "11  TOTNEG - NEG. - NÚMERO DE NEGÓCIOS EFETUADOS C...   \n",
       "12  QUATOT - QUANTIDADE TOTAL DE TÍTULOS NEGOCIADO...   \n",
       "1   VOLTOT - VOLUME TOTAL DE TÍTULOS NEGOCIADOS NE...   \n",
       "2   PREEXE - PREÇO DE EXERCÍCIO PARA O MERCADO DE ...   \n",
       "3   INDOPC - INDICADOR DE CORREÇÃO DE PREÇOS DE EX...   \n",
       "4   DATVEN - DATA DO VENCIMENTO PARA OS MERCADOS D...   \n",
       "5                  FATCOT - FATOR DE COTAÇÃO DO PAPEL   \n",
       "6   PTOEXE - PREÇO DE EXERCÍCIO EM PONTOS PARA OPÇ...   \n",
       "7   CODISI - CÓDIGO DO PAPEL NO SISTEMA ISIN OU CÓ...   \n",
       "8            DISMES - NÚMERO DE DISTRIBUIÇÃO DO PAPEL   \n",
       "\n",
       "                                              CONTENT KIND AND SIZE INIT  END  \\\n",
       "1                                           FIXO “01”         N(02)   01   02   \n",
       "2                                 FORMATO  “AAAAMMDD”         N(08)   03   10   \n",
       "3   UTILIZADO PARA CLASSIFICAR OS PAPÉIS NA EMISSÃ...         X(02)   11   12   \n",
       "4                                                             X(12)   13   24   \n",
       "5   CÓD. DO MERCADO EM QUE O PAPEL ESTÁ CADASTRADO...         N(03)   25   27   \n",
       "6                                                             X(12)   28   39   \n",
       "1                                   VER TABELA  ANEXA         X(10)   40   49   \n",
       "2                                                             X(03)   50   52   \n",
       "3                       MOEDA USADA NA DATA DO PREGÃO         X(04)   53   56   \n",
       "4                                                           (11)V99   57   69   \n",
       "5                                                           (11)V99   70   82   \n",
       "6                                                           (11)V99   83   95   \n",
       "7                                                           (11)V99   96  108   \n",
       "8                                                           (11)V99  109  121   \n",
       "9                                                           (11)V99  122  134   \n",
       "10                                                          (11)V99  135  147   \n",
       "11                                                            N(05)  148  152   \n",
       "12                                                            N(18)  153  170   \n",
       "1                                                           (16)V99  171  188   \n",
       "2                                                           (11)V99  189  201   \n",
       "3                                   ER TABELA   ANEXA         N(01)  202  202   \n",
       "4                                  FORMATO “AAAAMMDD”         N(08)  203  210   \n",
       "5   ‘‘1’ = COTAÇÃO UNITÁRIA 1000’ = COTAÇÃO POR LO...         N(07)  211  217   \n",
       "6   PARA OS REFERENCIADOS EM DÓLAR, CADA PONTO EQU...       (07)V06  218  230   \n",
       "7   CÓDIGO DO PAPEL NO SISTEMA ISIN A PARTIR DE 15...         X(12)  231  242   \n",
       "8   NÚMERO DE SEQÜÊNCIA DO  PAPEL CORRESPONDENTE A...         9(03)  243  245   \n",
       "\n",
       "            PREFIX  \n",
       "1           TIPREG  \n",
       "2   DATA DO PREGÃO  \n",
       "3           CODBDI  \n",
       "4           CODNEG  \n",
       "5           TPMERC  \n",
       "6           NOMRES  \n",
       "1           ESPECI  \n",
       "2           PRAZOT  \n",
       "3           MODREF  \n",
       "4           PREABE  \n",
       "5           PREMAX  \n",
       "6           PREMIN  \n",
       "7           PREMED  \n",
       "8           PREULT  \n",
       "9           PREOFC  \n",
       "10          PREOFV  \n",
       "11          TOTNEG  \n",
       "12          QUATOT  \n",
       "1           VOLTOT  \n",
       "2           PREEXE  \n",
       "3           INDOPC  \n",
       "4           DATVEN  \n",
       "5           FATCOT  \n",
       "6           PTOEXE  \n",
       "7           CODISI  \n",
       "8           DISMES  "
      ]
     },
     "execution_count": 200,
     "metadata": {},
     "output_type": "execute_result"
    }
   ],
   "source": [
    "tb"
   ]
  },
  {
   "cell_type": "code",
   "execution_count": 202,
   "metadata": {
    "ExecuteTime": {
     "end_time": "2020-02-21T21:31:22.008037Z",
     "start_time": "2020-02-21T21:31:21.988872Z"
    }
   },
   "outputs": [
    {
     "data": {
      "text/html": [
       "<div>\n",
       "<style scoped>\n",
       "    .dataframe tbody tr th:only-of-type {\n",
       "        vertical-align: middle;\n",
       "    }\n",
       "\n",
       "    .dataframe tbody tr th {\n",
       "        vertical-align: top;\n",
       "    }\n",
       "\n",
       "    .dataframe thead th {\n",
       "        text-align: right;\n",
       "    }\n",
       "</style>\n",
       "<table border=\"1\" class=\"dataframe\">\n",
       "  <thead>\n",
       "    <tr style=\"text-align: right;\">\n",
       "      <th></th>\n",
       "      <th>NAME</th>\n",
       "      <th>CONTENT</th>\n",
       "      <th>KIND AND SIZE</th>\n",
       "      <th>INIT</th>\n",
       "      <th>END</th>\n",
       "    </tr>\n",
       "  </thead>\n",
       "  <tbody>\n",
       "    <tr>\n",
       "      <td>1</td>\n",
       "      <td>TIPO DE REGISTRO</td>\n",
       "      <td>FIXO “99”</td>\n",
       "      <td>N(02)</td>\n",
       "      <td>01</td>\n",
       "      <td>02</td>\n",
       "    </tr>\n",
       "    <tr>\n",
       "      <td>2</td>\n",
       "      <td>NOME DO ARQUIVO</td>\n",
       "      <td>FIXO “COTAHIST.AAAA”</td>\n",
       "      <td>X(13)</td>\n",
       "      <td>03</td>\n",
       "      <td>15</td>\n",
       "    </tr>\n",
       "    <tr>\n",
       "      <td>3</td>\n",
       "      <td>CÓDIGO DA ORIGEM</td>\n",
       "      <td>FIXO “BOVESPA”</td>\n",
       "      <td>X(08)</td>\n",
       "      <td>16</td>\n",
       "      <td>23</td>\n",
       "    </tr>\n",
       "    <tr>\n",
       "      <td>4</td>\n",
       "      <td>DATA DA GERAÇÃO DO \\nARQUIVO</td>\n",
       "      <td>FORMATO “AAAAMMDD”</td>\n",
       "      <td>N(08)</td>\n",
       "      <td>24</td>\n",
       "      <td>31</td>\n",
       "    </tr>\n",
       "    <tr>\n",
       "      <td>5</td>\n",
       "      <td>T\\nOTAL DE REGISTROS</td>\n",
       "      <td>INCLUIR TAMBÉM OS \\nREGISTROS HEADER E \\nTRAILER.</td>\n",
       "      <td>N(11)</td>\n",
       "      <td>32</td>\n",
       "      <td>42</td>\n",
       "    </tr>\n",
       "    <tr>\n",
       "      <td>6</td>\n",
       "      <td>RESERVA</td>\n",
       "      <td>PREENCHER COM \\nBRANCOS</td>\n",
       "      <td>X(203)</td>\n",
       "      <td>43</td>\n",
       "      <td>245</td>\n",
       "    </tr>\n",
       "  </tbody>\n",
       "</table>\n",
       "</div>"
      ],
      "text/plain": [
       "                           NAME  \\\n",
       "1              TIPO DE REGISTRO   \n",
       "2               NOME DO ARQUIVO   \n",
       "3              CÓDIGO DA ORIGEM   \n",
       "4  DATA DA GERAÇÃO DO \\nARQUIVO   \n",
       "5          T\\nOTAL DE REGISTROS   \n",
       "6                       RESERVA   \n",
       "\n",
       "                                             CONTENT KIND AND SIZE INIT  END  \n",
       "1                                          FIXO “99”         N(02)   01   02  \n",
       "2                               FIXO “COTAHIST.AAAA”         X(13)   03   15  \n",
       "3                                     FIXO “BOVESPA”         X(08)   16   23  \n",
       "4                                 FORMATO “AAAAMMDD”         N(08)   24   31  \n",
       "5  INCLUIR TAMBÉM OS \\nREGISTROS HEADER E \\nTRAILER.         N(11)   32   42  \n",
       "6                            PREENCHER COM \\nBRANCOS        X(203)   43  245  "
      ]
     },
     "execution_count": 202,
     "metadata": {},
     "output_type": "execute_result"
    }
   ],
   "source": [
    "header"
   ]
  }
 ],
 "metadata": {
  "kernelspec": {
   "display_name": "Python 3",
   "language": "python",
   "name": "python3"
  },
  "language_info": {
   "codemirror_mode": {
    "name": "ipython",
    "version": 3
   },
   "file_extension": ".py",
   "mimetype": "text/x-python",
   "name": "python",
   "nbconvert_exporter": "python",
   "pygments_lexer": "ipython3",
   "version": "3.7.4"
  },
  "toc": {
   "base_numbering": 1,
   "nav_menu": {},
   "number_sections": false,
   "sideBar": true,
   "skip_h1_title": false,
   "title_cell": "Table of Contents",
   "title_sidebar": "Contents",
   "toc_cell": false,
   "toc_position": {},
   "toc_section_display": true,
   "toc_window_display": false
  },
  "varInspector": {
   "cols": {
    "lenName": 16,
    "lenType": 16,
    "lenVar": 40
   },
   "kernels_config": {
    "python": {
     "delete_cmd_postfix": "",
     "delete_cmd_prefix": "del ",
     "library": "var_list.py",
     "varRefreshCmd": "print(var_dic_list())"
    },
    "r": {
     "delete_cmd_postfix": ") ",
     "delete_cmd_prefix": "rm(",
     "library": "var_list.r",
     "varRefreshCmd": "cat(var_dic_list()) "
    }
   },
   "types_to_exclude": [
    "module",
    "function",
    "builtin_function_or_method",
    "instance",
    "_Feature"
   ],
   "window_display": false
  }
 },
 "nbformat": 4,
 "nbformat_minor": 2
}

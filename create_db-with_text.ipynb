{
 "cells": [
  {
   "cell_type": "markdown",
   "metadata": {},
   "source": [
    "# Creating Historical Database"
   ]
  },
  {
   "cell_type": "code",
   "execution_count": 1,
   "metadata": {
    "ExecuteTime": {
     "end_time": "2020-05-09T19:29:46.866112Z",
     "start_time": "2020-05-09T19:29:45.612646Z"
    }
   },
   "outputs": [],
   "source": [
    "import os\n",
    "import tqdm\n",
    "import zipfile\n",
    "import numpy as np\n",
    "import pandas as pd\n",
    "\n",
    "# speeds up pandas\n",
    "# reference: https://towardsdatascience.com/one-word-of-code-to-stop-using-pandas-so-slowly-793e0a81343c\n",
    "import swifter\n",
    "\n",
    "from collections import defaultdict"
   ]
  },
  {
   "cell_type": "code",
   "execution_count": 2,
   "metadata": {
    "ExecuteTime": {
     "end_time": "2020-05-09T19:29:51.023406Z",
     "start_time": "2020-05-09T19:29:51.017249Z"
    }
   },
   "outputs": [],
   "source": [
    "datapath = './data'\n",
    "unzip_path = './unzipped_data'"
   ]
  },
  {
   "cell_type": "markdown",
   "metadata": {},
   "source": [
    "<br>\n",
    "\n",
    "## Getting layout info"
   ]
  },
  {
   "cell_type": "code",
   "execution_count": 3,
   "metadata": {
    "ExecuteTime": {
     "end_time": "2020-05-09T19:30:00.465467Z",
     "start_time": "2020-05-09T19:30:00.445127Z"
    }
   },
   "outputs": [],
   "source": [
    "header = pd.read_csv('layout_header.csv', sep=';', encoding='utf-8-sig', index_col=0)\n",
    "layout = pd.read_csv('layout_table.csv', sep=';', encoding='utf-8-sig', index_col=0)"
   ]
  },
  {
   "cell_type": "markdown",
   "metadata": {},
   "source": [
    "### preparing info columns"
   ]
  },
  {
   "cell_type": "code",
   "execution_count": 4,
   "metadata": {
    "ExecuteTime": {
     "end_time": "2020-05-09T19:30:03.131848Z",
     "start_time": "2020-05-09T19:30:03.119283Z"
    }
   },
   "outputs": [],
   "source": [
    "layout['PREFIX'] = layout['NAME'].apply(lambda x:str(x).split(' -')[0])  # short name for each column"
   ]
  },
  {
   "cell_type": "markdown",
   "metadata": {},
   "source": [
    "<br>\n",
    "\n",
    "## Importing historical data\n",
    "\n",
    "### unzipping files"
   ]
  },
  {
   "cell_type": "code",
   "execution_count": 5,
   "metadata": {
    "ExecuteTime": {
     "end_time": "2020-05-09T19:30:10.143140Z",
     "start_time": "2020-05-09T19:30:10.135984Z"
    }
   },
   "outputs": [],
   "source": [
    "zipNames = os.listdir(datapath)"
   ]
  },
  {
   "cell_type": "code",
   "execution_count": 6,
   "metadata": {
    "ExecuteTime": {
     "end_time": "2020-05-09T19:30:14.297115Z",
     "start_time": "2020-05-09T19:30:11.425375Z"
    }
   },
   "outputs": [],
   "source": [
    "for file in zipNames:\n",
    "    with zipfile.ZipFile(f'./data/{file}', 'r') as zip_ref:\n",
    "        zip_ref.extractall('./unzipped_data')"
   ]
  },
  {
   "cell_type": "code",
   "execution_count": 28,
   "metadata": {
    "ExecuteTime": {
     "end_time": "2020-05-09T19:39:10.243379Z",
     "start_time": "2020-05-09T19:39:10.226274Z"
    }
   },
   "outputs": [],
   "source": [
    "def get_values(string_row, layout, prefix):\n",
    "    '''\n",
    "    applies layout to a row of historical data table.\n",
    "    \n",
    "    Arguments:\n",
    "        - string_row (str): row of historical dataframe (just read the historical data \n",
    "            text file into pandas dataframe with pandas.readtable and parse one row at a time)\n",
    "        - prefix (str): prefix of the column/field name\n",
    "        - layout (pandas.dataframe): layout table\n",
    "    \n",
    "    returns the value of that field for the parsed row.\n",
    "    '''\n",
    "    field_info = layout[layout['PREFIX'] == prefix]\n",
    "    \n",
    "    init = field_info.loc[:,'INIT'].values[0] - 1        # start position\n",
    "    end = field_info.loc[:,'END'].values[0]              # end position (p.s: Pythonic way of indexing ;)\n",
    "    \n",
    "    return string_row[init:end]\n",
    "\n",
    "\n",
    "\n",
    "def get_multiple_values(string_row, layout, prefixes=\"all\", index=0):\n",
    "    '''\n",
    "    Gets multiple values from a row of historical data table (according to layout).\n",
    "    \n",
    "    Arguments:\n",
    "        - string_row (str): row of historical dataframe (just read the historical data \n",
    "            text file into pandas dataframe with pandas.readtable and parse one row at a time)\n",
    "        - prefixes (str): prefix of the column/field name\n",
    "        - layout (pandas.dataframe): layout table\n",
    "    \n",
    "    returns the value of that field for the parsed row.\n",
    "    '''\n",
    "    if prefixes == \"all\":\n",
    "        prefixes = layout[\"PREFIX\"]\n",
    "    \n",
    "    multiple_values = defaultdict()\n",
    "    for prefix in prefixes:\n",
    "        multiple_values[prefix] = get_values(string_row, layout, prefix)\n",
    "    \n",
    "    return pd.DataFrame(dict(multiple_values), index=[index])"
   ]
  },
  {
   "cell_type": "markdown",
   "metadata": {},
   "source": [
    "### Reading lines as textual data\n",
    "\n",
    "<font color=\"red\">**p.s.:** the code below works, but it's extremely slow (about 1h30min to iterate over the whole file) </font>"
   ]
  },
  {
   "cell_type": "code",
   "execution_count": 29,
   "metadata": {
    "ExecuteTime": {
     "end_time": "2020-05-09T19:39:11.067207Z",
     "start_time": "2020-05-09T19:39:11.061451Z"
    }
   },
   "outputs": [],
   "source": [
    "unzipNames = os.listdir(unzip_path)"
   ]
  },
  {
   "cell_type": "code",
   "execution_count": 35,
   "metadata": {
    "ExecuteTime": {
     "end_time": "2020-05-09T19:43:03.584855Z",
     "start_time": "2020-05-09T19:43:00.667999Z"
    },
    "scrolled": true
   },
   "outputs": [
    {
     "name": "stderr",
     "output_type": "stream",
     "text": [
      "99it [00:02, 34.12it/s]\n"
     ]
    }
   ],
   "source": [
    "large_df = pd.DataFrame()\n",
    "with open(f'./unzipped_data/{unzipNames[0]}') as file:\n",
    "        counter = 0\n",
    "        for line in tqdm.tqdm(file):\n",
    "            large_df = pd.concat([large_df,get_multiple_values(line, layout, index=counter)])\n",
    "            counter+=1\n",
    "            \n",
    "            # just to get a sample of working code\n",
    "            if counter == 100:\n",
    "                break"
   ]
  },
  {
   "cell_type": "code",
   "execution_count": 36,
   "metadata": {
    "ExecuteTime": {
     "end_time": "2020-05-09T19:43:20.596970Z",
     "start_time": "2020-05-09T19:43:20.538736Z"
    }
   },
   "outputs": [
    {
     "data": {
      "text/html": [
       "<div>\n",
       "<style scoped>\n",
       "    .dataframe tbody tr th:only-of-type {\n",
       "        vertical-align: middle;\n",
       "    }\n",
       "\n",
       "    .dataframe tbody tr th {\n",
       "        vertical-align: top;\n",
       "    }\n",
       "\n",
       "    .dataframe thead th {\n",
       "        text-align: right;\n",
       "    }\n",
       "</style>\n",
       "<table border=\"1\" class=\"dataframe\">\n",
       "  <thead>\n",
       "    <tr style=\"text-align: right;\">\n",
       "      <th></th>\n",
       "      <th>TIPREG</th>\n",
       "      <th>DATA DO PREGÃO</th>\n",
       "      <th>CODBDI</th>\n",
       "      <th>CODNEG</th>\n",
       "      <th>TPMERC</th>\n",
       "      <th>NOMRES</th>\n",
       "      <th>ESPECI</th>\n",
       "      <th>PRAZOT</th>\n",
       "      <th>MODREF</th>\n",
       "      <th>PREABE</th>\n",
       "      <th>...</th>\n",
       "      <th>TOTNEG</th>\n",
       "      <th>QUATOT</th>\n",
       "      <th>VOLTOT</th>\n",
       "      <th>PREEXE</th>\n",
       "      <th>INDOPC</th>\n",
       "      <th>DATVEN</th>\n",
       "      <th>FATCOT</th>\n",
       "      <th>PTOEXE</th>\n",
       "      <th>CODISI</th>\n",
       "      <th>DISMES</th>\n",
       "    </tr>\n",
       "  </thead>\n",
       "  <tbody>\n",
       "    <tr>\n",
       "      <th>0</th>\n",
       "      <td>00</td>\n",
       "      <td>COTAHIST</td>\n",
       "      <td>.2</td>\n",
       "      <td>010BOVESPA 2</td>\n",
       "      <td>010</td>\n",
       "      <td>1230</td>\n",
       "      <td></td>\n",
       "      <td></td>\n",
       "      <td></td>\n",
       "      <td></td>\n",
       "      <td>...</td>\n",
       "      <td></td>\n",
       "      <td></td>\n",
       "      <td></td>\n",
       "      <td></td>\n",
       "      <td></td>\n",
       "      <td></td>\n",
       "      <td></td>\n",
       "      <td></td>\n",
       "      <td></td>\n",
       "      <td></td>\n",
       "    </tr>\n",
       "    <tr>\n",
       "      <th>1</th>\n",
       "      <td>01</td>\n",
       "      <td>20100104</td>\n",
       "      <td>02</td>\n",
       "      <td>ABCB4</td>\n",
       "      <td>010</td>\n",
       "      <td>ABC BRASIL</td>\n",
       "      <td>PN  EJ  N2</td>\n",
       "      <td></td>\n",
       "      <td>R$</td>\n",
       "      <td>0000000001200</td>\n",
       "      <td>...</td>\n",
       "      <td>00421</td>\n",
       "      <td>000000000000205500</td>\n",
       "      <td>000000000253269800</td>\n",
       "      <td>0000000000000</td>\n",
       "      <td>0</td>\n",
       "      <td>99991231</td>\n",
       "      <td>0000001</td>\n",
       "      <td>0000000000000</td>\n",
       "      <td>BRABCBACNPR4</td>\n",
       "      <td>109</td>\n",
       "    </tr>\n",
       "    <tr>\n",
       "      <th>2</th>\n",
       "      <td>01</td>\n",
       "      <td>20100104</td>\n",
       "      <td>96</td>\n",
       "      <td>ABCB4F</td>\n",
       "      <td>020</td>\n",
       "      <td>ABC BRASIL</td>\n",
       "      <td>PN  EJ  N2</td>\n",
       "      <td></td>\n",
       "      <td>R$</td>\n",
       "      <td>0000000001210</td>\n",
       "      <td>...</td>\n",
       "      <td>00017</td>\n",
       "      <td>000000000000000423</td>\n",
       "      <td>000000000000520805</td>\n",
       "      <td>0000000000000</td>\n",
       "      <td>0</td>\n",
       "      <td>99991231</td>\n",
       "      <td>0000001</td>\n",
       "      <td>0000000000000</td>\n",
       "      <td>BRABCBACNPR4</td>\n",
       "      <td>109</td>\n",
       "    </tr>\n",
       "    <tr>\n",
       "      <th>3</th>\n",
       "      <td>01</td>\n",
       "      <td>20100104</td>\n",
       "      <td>02</td>\n",
       "      <td>ABNB3</td>\n",
       "      <td>010</td>\n",
       "      <td>ABNOTE</td>\n",
       "      <td>ON  ED  NM</td>\n",
       "      <td></td>\n",
       "      <td>R$</td>\n",
       "      <td>0000000001897</td>\n",
       "      <td>...</td>\n",
       "      <td>00240</td>\n",
       "      <td>000000000000289400</td>\n",
       "      <td>000000000553926000</td>\n",
       "      <td>0000000000000</td>\n",
       "      <td>0</td>\n",
       "      <td>99991231</td>\n",
       "      <td>0000001</td>\n",
       "      <td>0000000000000</td>\n",
       "      <td>BRABNBACNOR4</td>\n",
       "      <td>114</td>\n",
       "    </tr>\n",
       "    <tr>\n",
       "      <th>4</th>\n",
       "      <td>01</td>\n",
       "      <td>20100104</td>\n",
       "      <td>96</td>\n",
       "      <td>ABNB3F</td>\n",
       "      <td>020</td>\n",
       "      <td>ABNOTE</td>\n",
       "      <td>ON  ED  NM</td>\n",
       "      <td></td>\n",
       "      <td>R$</td>\n",
       "      <td>0000000001895</td>\n",
       "      <td>...</td>\n",
       "      <td>00004</td>\n",
       "      <td>000000000000000033</td>\n",
       "      <td>000000000000063159</td>\n",
       "      <td>0000000000000</td>\n",
       "      <td>0</td>\n",
       "      <td>99991231</td>\n",
       "      <td>0000001</td>\n",
       "      <td>0000000000000</td>\n",
       "      <td>BRABNBACNOR4</td>\n",
       "      <td>114</td>\n",
       "    </tr>\n",
       "    <tr>\n",
       "      <th>...</th>\n",
       "      <td>...</td>\n",
       "      <td>...</td>\n",
       "      <td>...</td>\n",
       "      <td>...</td>\n",
       "      <td>...</td>\n",
       "      <td>...</td>\n",
       "      <td>...</td>\n",
       "      <td>...</td>\n",
       "      <td>...</td>\n",
       "      <td>...</td>\n",
       "      <td>...</td>\n",
       "      <td>...</td>\n",
       "      <td>...</td>\n",
       "      <td>...</td>\n",
       "      <td>...</td>\n",
       "      <td>...</td>\n",
       "      <td>...</td>\n",
       "      <td>...</td>\n",
       "      <td>...</td>\n",
       "      <td>...</td>\n",
       "      <td>...</td>\n",
       "    </tr>\n",
       "    <tr>\n",
       "      <th>95</th>\n",
       "      <td>01</td>\n",
       "      <td>20100104</td>\n",
       "      <td>62</td>\n",
       "      <td>BICB4T</td>\n",
       "      <td>030</td>\n",
       "      <td>BICBANCO</td>\n",
       "      <td>PN  EJ  N1</td>\n",
       "      <td>016</td>\n",
       "      <td>R$</td>\n",
       "      <td>0000000001230</td>\n",
       "      <td>...</td>\n",
       "      <td>00004</td>\n",
       "      <td>000000000000001600</td>\n",
       "      <td>000000000001968697</td>\n",
       "      <td>0000000000000</td>\n",
       "      <td>0</td>\n",
       "      <td>99991231</td>\n",
       "      <td>0000001</td>\n",
       "      <td>0000000000000</td>\n",
       "      <td>BRBICBACNPR7</td>\n",
       "      <td>110</td>\n",
       "    </tr>\n",
       "    <tr>\n",
       "      <th>96</th>\n",
       "      <td>01</td>\n",
       "      <td>20100104</td>\n",
       "      <td>62</td>\n",
       "      <td>BICB4T</td>\n",
       "      <td>030</td>\n",
       "      <td>BICBANCO</td>\n",
       "      <td>PN  EJ  N1</td>\n",
       "      <td>030</td>\n",
       "      <td>R$</td>\n",
       "      <td>0000000001229</td>\n",
       "      <td>...</td>\n",
       "      <td>00020</td>\n",
       "      <td>000000000000015400</td>\n",
       "      <td>000000000018952163</td>\n",
       "      <td>0000000000000</td>\n",
       "      <td>0</td>\n",
       "      <td>99991231</td>\n",
       "      <td>0000001</td>\n",
       "      <td>0000000000000</td>\n",
       "      <td>BRBICBACNPR7</td>\n",
       "      <td>110</td>\n",
       "    </tr>\n",
       "    <tr>\n",
       "      <th>97</th>\n",
       "      <td>01</td>\n",
       "      <td>20100104</td>\n",
       "      <td>10</td>\n",
       "      <td>BIOM10</td>\n",
       "      <td>010</td>\n",
       "      <td>BIOMM</td>\n",
       "      <td>PN  REC</td>\n",
       "      <td></td>\n",
       "      <td>R$</td>\n",
       "      <td>0000000000270</td>\n",
       "      <td>...</td>\n",
       "      <td>00002</td>\n",
       "      <td>000000000000002000</td>\n",
       "      <td>000000000000540000</td>\n",
       "      <td>0000000000000</td>\n",
       "      <td>0</td>\n",
       "      <td>99991231</td>\n",
       "      <td>0000001</td>\n",
       "      <td>0000000000000</td>\n",
       "      <td>BRBIOMR01PR4</td>\n",
       "      <td>100</td>\n",
       "    </tr>\n",
       "    <tr>\n",
       "      <th>98</th>\n",
       "      <td>01</td>\n",
       "      <td>20100104</td>\n",
       "      <td>96</td>\n",
       "      <td>BIOM3F</td>\n",
       "      <td>020</td>\n",
       "      <td>BIOMM</td>\n",
       "      <td>ON</td>\n",
       "      <td></td>\n",
       "      <td>R$</td>\n",
       "      <td>0000000000290</td>\n",
       "      <td>...</td>\n",
       "      <td>00002</td>\n",
       "      <td>000000000000000033</td>\n",
       "      <td>000000000000009570</td>\n",
       "      <td>0000000000000</td>\n",
       "      <td>0</td>\n",
       "      <td>99991231</td>\n",
       "      <td>0000001</td>\n",
       "      <td>0000000000000</td>\n",
       "      <td>BRBIOMACNOR2</td>\n",
       "      <td>101</td>\n",
       "    </tr>\n",
       "    <tr>\n",
       "      <th>99</th>\n",
       "      <td>01</td>\n",
       "      <td>20100104</td>\n",
       "      <td>96</td>\n",
       "      <td>BIOM4F</td>\n",
       "      <td>020</td>\n",
       "      <td>BIOMM</td>\n",
       "      <td>PN</td>\n",
       "      <td></td>\n",
       "      <td>R$</td>\n",
       "      <td>0000000000290</td>\n",
       "      <td>...</td>\n",
       "      <td>00001</td>\n",
       "      <td>000000000000000100</td>\n",
       "      <td>000000000000029000</td>\n",
       "      <td>0000000000000</td>\n",
       "      <td>0</td>\n",
       "      <td>99991231</td>\n",
       "      <td>0000001</td>\n",
       "      <td>0000000000000</td>\n",
       "      <td>BRBIOMACNPR9</td>\n",
       "      <td>101</td>\n",
       "    </tr>\n",
       "  </tbody>\n",
       "</table>\n",
       "<p>100 rows × 26 columns</p>\n",
       "</div>"
      ],
      "text/plain": [
       "   TIPREG DATA DO PREGÃO CODBDI        CODNEG TPMERC        NOMRES  \\\n",
       "0      00       COTAHIST     .2  010BOVESPA 2    010  1230           \n",
       "1      01       20100104     02  ABCB4           010  ABC BRASIL     \n",
       "2      01       20100104     96  ABCB4F          020  ABC BRASIL     \n",
       "3      01       20100104     02  ABNB3           010  ABNOTE         \n",
       "4      01       20100104     96  ABNB3F          020  ABNOTE         \n",
       "..    ...            ...    ...           ...    ...           ...   \n",
       "95     01       20100104     62  BICB4T          030  BICBANCO       \n",
       "96     01       20100104     62  BICB4T          030  BICBANCO       \n",
       "97     01       20100104     10  BIOM10          010  BIOMM          \n",
       "98     01       20100104     96  BIOM3F          020  BIOMM          \n",
       "99     01       20100104     96  BIOM4F          020  BIOMM          \n",
       "\n",
       "        ESPECI PRAZOT MODREF         PREABE  ... TOTNEG              QUATOT  \\\n",
       "0                                            ...                              \n",
       "1   PN  EJ  N2          R$    0000000001200  ...  00421  000000000000205500   \n",
       "2   PN  EJ  N2          R$    0000000001210  ...  00017  000000000000000423   \n",
       "3   ON  ED  NM          R$    0000000001897  ...  00240  000000000000289400   \n",
       "4   ON  ED  NM          R$    0000000001895  ...  00004  000000000000000033   \n",
       "..         ...    ...    ...            ...  ...    ...                 ...   \n",
       "95  PN  EJ  N1    016   R$    0000000001230  ...  00004  000000000000001600   \n",
       "96  PN  EJ  N1    030   R$    0000000001229  ...  00020  000000000000015400   \n",
       "97  PN  REC             R$    0000000000270  ...  00002  000000000000002000   \n",
       "98  ON                  R$    0000000000290  ...  00002  000000000000000033   \n",
       "99  PN                  R$    0000000000290  ...  00001  000000000000000100   \n",
       "\n",
       "                VOLTOT         PREEXE INDOPC    DATVEN   FATCOT  \\\n",
       "0                                                                 \n",
       "1   000000000253269800  0000000000000      0  99991231  0000001   \n",
       "2   000000000000520805  0000000000000      0  99991231  0000001   \n",
       "3   000000000553926000  0000000000000      0  99991231  0000001   \n",
       "4   000000000000063159  0000000000000      0  99991231  0000001   \n",
       "..                 ...            ...    ...       ...      ...   \n",
       "95  000000000001968697  0000000000000      0  99991231  0000001   \n",
       "96  000000000018952163  0000000000000      0  99991231  0000001   \n",
       "97  000000000000540000  0000000000000      0  99991231  0000001   \n",
       "98  000000000000009570  0000000000000      0  99991231  0000001   \n",
       "99  000000000000029000  0000000000000      0  99991231  0000001   \n",
       "\n",
       "           PTOEXE        CODISI DISMES  \n",
       "0                                       \n",
       "1   0000000000000  BRABCBACNPR4    109  \n",
       "2   0000000000000  BRABCBACNPR4    109  \n",
       "3   0000000000000  BRABNBACNOR4    114  \n",
       "4   0000000000000  BRABNBACNOR4    114  \n",
       "..            ...           ...    ...  \n",
       "95  0000000000000  BRBICBACNPR7    110  \n",
       "96  0000000000000  BRBICBACNPR7    110  \n",
       "97  0000000000000  BRBIOMR01PR4    100  \n",
       "98  0000000000000  BRBIOMACNOR2    101  \n",
       "99  0000000000000  BRBIOMACNPR9    101  \n",
       "\n",
       "[100 rows x 26 columns]"
      ]
     },
     "execution_count": 36,
     "metadata": {},
     "output_type": "execute_result"
    }
   ],
   "source": [
    "# line 0 is the header and must be treated separately\n",
    "large_df"
   ]
  },
  {
   "cell_type": "markdown",
   "metadata": {},
   "source": [
    "**end**"
   ]
  }
 ],
 "metadata": {
  "kernelspec": {
   "display_name": "Python 3",
   "language": "python",
   "name": "python3"
  },
  "language_info": {
   "codemirror_mode": {
    "name": "ipython",
    "version": 3
   },
   "file_extension": ".py",
   "mimetype": "text/x-python",
   "name": "python",
   "nbconvert_exporter": "python",
   "pygments_lexer": "ipython3",
   "version": "3.8.2"
  },
  "latex_envs": {
   "LaTeX_envs_menu_present": true,
   "autoclose": false,
   "autocomplete": true,
   "bibliofile": "biblio.bib",
   "cite_by": "apalike",
   "current_citInitial": 1,
   "eqLabelWithNumbers": true,
   "eqNumInitial": 1,
   "hotkeys": {
    "equation": "Ctrl-E",
    "itemize": "Ctrl-I"
   },
   "labels_anchors": false,
   "latex_user_defs": false,
   "report_style_numbering": false,
   "user_envs_cfg": false
  },
  "toc": {
   "base_numbering": 1,
   "nav_menu": {},
   "number_sections": false,
   "sideBar": true,
   "skip_h1_title": false,
   "title_cell": "Table of Contents",
   "title_sidebar": "Contents",
   "toc_cell": false,
   "toc_position": {},
   "toc_section_display": true,
   "toc_window_display": false
  },
  "varInspector": {
   "cols": {
    "lenName": 16,
    "lenType": 16,
    "lenVar": 40
   },
   "kernels_config": {
    "python": {
     "delete_cmd_postfix": "",
     "delete_cmd_prefix": "del ",
     "library": "var_list.py",
     "varRefreshCmd": "print(var_dic_list())"
    },
    "r": {
     "delete_cmd_postfix": ") ",
     "delete_cmd_prefix": "rm(",
     "library": "var_list.r",
     "varRefreshCmd": "cat(var_dic_list()) "
    }
   },
   "types_to_exclude": [
    "module",
    "function",
    "builtin_function_or_method",
    "instance",
    "_Feature"
   ],
   "window_display": false
  }
 },
 "nbformat": 4,
 "nbformat_minor": 2
}
